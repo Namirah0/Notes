{
 "cells": [
  {
   "cell_type": "code",
   "execution_count": null,
   "id": "52d9b84b",
   "metadata": {},
   "outputs": [],
   "source": [
    "if objects are iterable, eg string\n",
    "next exact functions\n",
    "iter converts iterable into iterator\n",
    "if object is not iterator then we cant convert\n",
    "\n"
   ]
  },
  {
   "cell_type": "code",
   "execution_count": 1,
   "id": "7bcb9944",
   "metadata": {},
   "outputs": [],
   "source": [
    "l =[1,2,3,4,5]\n"
   ]
  },
  {
   "cell_type": "code",
   "execution_count": 2,
   "id": "e4cd7945",
   "metadata": {},
   "outputs": [
    {
     "ename": "TypeError",
     "evalue": "'list' object is not an iterator",
     "output_type": "error",
     "traceback": [
      "\u001b[1;31m---------------------------------------------------------------------------\u001b[0m",
      "\u001b[1;31mTypeError\u001b[0m                                 Traceback (most recent call last)",
      "\u001b[1;32m~\\AppData\\Local\\Temp/ipykernel_5032/2016234150.py\u001b[0m in \u001b[0;36m<module>\u001b[1;34m\u001b[0m\n\u001b[1;32m----> 1\u001b[1;33m \u001b[0mnext\u001b[0m\u001b[1;33m(\u001b[0m\u001b[0ml\u001b[0m\u001b[1;33m)\u001b[0m\u001b[1;33m\u001b[0m\u001b[1;33m\u001b[0m\u001b[0m\n\u001b[0m",
      "\u001b[1;31mTypeError\u001b[0m: 'list' object is not an iterator"
     ]
    }
   ],
   "source": [
    "next(l)"
   ]
  },
  {
   "cell_type": "code",
   "execution_count": 3,
   "id": "8dfd9290",
   "metadata": {},
   "outputs": [],
   "source": [
    "l = iter(l)"
   ]
  },
  {
   "cell_type": "code",
   "execution_count": 4,
   "id": "78d6d73c",
   "metadata": {},
   "outputs": [
    {
     "data": {
      "text/plain": [
       "1"
      ]
     },
     "execution_count": 4,
     "metadata": {},
     "output_type": "execute_result"
    }
   ],
   "source": [
    "next(l)"
   ]
  },
  {
   "cell_type": "code",
   "execution_count": 5,
   "id": "a5c74deb",
   "metadata": {},
   "outputs": [
    {
     "data": {
      "text/plain": [
       "2"
      ]
     },
     "execution_count": 5,
     "metadata": {},
     "output_type": "execute_result"
    }
   ],
   "source": [
    "next(l)"
   ]
  },
  {
   "cell_type": "code",
   "execution_count": 6,
   "id": "031f1f44",
   "metadata": {},
   "outputs": [
    {
     "data": {
      "text/plain": [
       "3"
      ]
     },
     "execution_count": 6,
     "metadata": {},
     "output_type": "execute_result"
    }
   ],
   "source": [
    "next(l)"
   ]
  },
  {
   "cell_type": "code",
   "execution_count": 7,
   "id": "3990e1ec",
   "metadata": {},
   "outputs": [
    {
     "data": {
      "text/plain": [
       "4"
      ]
     },
     "execution_count": 7,
     "metadata": {},
     "output_type": "execute_result"
    }
   ],
   "source": [
    "next(l)"
   ]
  },
  {
   "cell_type": "code",
   "execution_count": 8,
   "id": "db24ebb1",
   "metadata": {},
   "outputs": [
    {
     "data": {
      "text/plain": [
       "5"
      ]
     },
     "execution_count": 8,
     "metadata": {},
     "output_type": "execute_result"
    }
   ],
   "source": [
    "next(l)"
   ]
  },
  {
   "cell_type": "code",
   "execution_count": 9,
   "id": "b79f339c",
   "metadata": {},
   "outputs": [
    {
     "ename": "StopIteration",
     "evalue": "",
     "output_type": "error",
     "traceback": [
      "\u001b[1;31m---------------------------------------------------------------------------\u001b[0m",
      "\u001b[1;31mStopIteration\u001b[0m                             Traceback (most recent call last)",
      "\u001b[1;32m~\\AppData\\Local\\Temp/ipykernel_5032/2016234150.py\u001b[0m in \u001b[0;36m<module>\u001b[1;34m\u001b[0m\n\u001b[1;32m----> 1\u001b[1;33m \u001b[0mnext\u001b[0m\u001b[1;33m(\u001b[0m\u001b[0ml\u001b[0m\u001b[1;33m)\u001b[0m\u001b[1;33m\u001b[0m\u001b[1;33m\u001b[0m\u001b[0m\n\u001b[0m",
      "\u001b[1;31mStopIteration\u001b[0m: "
     ]
    }
   ],
   "source": [
    "next(l)"
   ]
  },
  {
   "cell_type": "code",
   "execution_count": 10,
   "id": "98e31cba",
   "metadata": {},
   "outputs": [],
   "source": [
    "a = 56"
   ]
  },
  {
   "cell_type": "code",
   "execution_count": 11,
   "id": "62185796",
   "metadata": {},
   "outputs": [
    {
     "ename": "TypeError",
     "evalue": "'int' object is not an iterator",
     "output_type": "error",
     "traceback": [
      "\u001b[1;31m---------------------------------------------------------------------------\u001b[0m",
      "\u001b[1;31mTypeError\u001b[0m                                 Traceback (most recent call last)",
      "\u001b[1;32m~\\AppData\\Local\\Temp/ipykernel_5032/1242322984.py\u001b[0m in \u001b[0;36m<module>\u001b[1;34m\u001b[0m\n\u001b[1;32m----> 1\u001b[1;33m \u001b[0mnext\u001b[0m\u001b[1;33m(\u001b[0m\u001b[0ma\u001b[0m\u001b[1;33m)\u001b[0m\u001b[1;33m\u001b[0m\u001b[1;33m\u001b[0m\u001b[0m\n\u001b[0m",
      "\u001b[1;31mTypeError\u001b[0m: 'int' object is not an iterator"
     ]
    }
   ],
   "source": [
    "next(a)"
   ]
  },
  {
   "cell_type": "code",
   "execution_count": 12,
   "id": "bd8a90b8",
   "metadata": {},
   "outputs": [
    {
     "ename": "TypeError",
     "evalue": "'int' object is not an iterator",
     "output_type": "error",
     "traceback": [
      "\u001b[1;31m---------------------------------------------------------------------------\u001b[0m",
      "\u001b[1;31mTypeError\u001b[0m                                 Traceback (most recent call last)",
      "\u001b[1;32m~\\AppData\\Local\\Temp/ipykernel_5032/2485964880.py\u001b[0m in \u001b[0;36m<module>\u001b[1;34m\u001b[0m\n\u001b[1;32m----> 1\u001b[1;33m \u001b[0ma\u001b[0m \u001b[1;33m=\u001b[0m \u001b[0mnext\u001b[0m\u001b[1;33m(\u001b[0m\u001b[0ma\u001b[0m\u001b[1;33m)\u001b[0m\u001b[1;33m\u001b[0m\u001b[1;33m\u001b[0m\u001b[0m\n\u001b[0m",
      "\u001b[1;31mTypeError\u001b[0m: 'int' object is not an iterator"
     ]
    }
   ],
   "source": [
    "a = next(a)"
   ]
  },
  {
   "cell_type": "code",
   "execution_count": 13,
   "id": "25d73981",
   "metadata": {},
   "outputs": [],
   "source": [
    "t = (5,6,7,8,9)"
   ]
  },
  {
   "cell_type": "code",
   "execution_count": 14,
   "id": "1d83fef8",
   "metadata": {},
   "outputs": [
    {
     "ename": "TypeError",
     "evalue": "'tuple' object is not an iterator",
     "output_type": "error",
     "traceback": [
      "\u001b[1;31m---------------------------------------------------------------------------\u001b[0m",
      "\u001b[1;31mTypeError\u001b[0m                                 Traceback (most recent call last)",
      "\u001b[1;32m~\\AppData\\Local\\Temp/ipykernel_5032/2139502855.py\u001b[0m in \u001b[0;36m<module>\u001b[1;34m\u001b[0m\n\u001b[1;32m----> 1\u001b[1;33m \u001b[0mnext\u001b[0m\u001b[1;33m(\u001b[0m\u001b[0mt\u001b[0m\u001b[1;33m)\u001b[0m\u001b[1;33m\u001b[0m\u001b[1;33m\u001b[0m\u001b[0m\n\u001b[0m",
      "\u001b[1;31mTypeError\u001b[0m: 'tuple' object is not an iterator"
     ]
    }
   ],
   "source": [
    "next(t)"
   ]
  },
  {
   "cell_type": "code",
   "execution_count": 16,
   "id": "73f29e25",
   "metadata": {},
   "outputs": [],
   "source": [
    "t = iter(t)"
   ]
  },
  {
   "cell_type": "code",
   "execution_count": 17,
   "id": "a3fbd5ec",
   "metadata": {},
   "outputs": [
    {
     "data": {
      "text/plain": [
       "5"
      ]
     },
     "execution_count": 17,
     "metadata": {},
     "output_type": "execute_result"
    }
   ],
   "source": [
    "next(t)"
   ]
  },
  {
   "cell_type": "code",
   "execution_count": 18,
   "id": "0b3269f4",
   "metadata": {},
   "outputs": [
    {
     "data": {
      "text/plain": [
       "6"
      ]
     },
     "execution_count": 18,
     "metadata": {},
     "output_type": "execute_result"
    }
   ],
   "source": [
    "next(t)"
   ]
  },
  {
   "cell_type": "code",
   "execution_count": 19,
   "id": "0d3a18eb",
   "metadata": {},
   "outputs": [
    {
     "data": {
      "text/plain": [
       "7"
      ]
     },
     "execution_count": 19,
     "metadata": {},
     "output_type": "execute_result"
    }
   ],
   "source": [
    "next(t)"
   ]
  },
  {
   "cell_type": "code",
   "execution_count": 22,
   "id": "6bd2c3e2",
   "metadata": {},
   "outputs": [],
   "source": [
    "r =range(6)"
   ]
  },
  {
   "cell_type": "code",
   "execution_count": 23,
   "id": "556d6a62",
   "metadata": {},
   "outputs": [
    {
     "ename": "TypeError",
     "evalue": "'range' object is not an iterator",
     "output_type": "error",
     "traceback": [
      "\u001b[1;31m---------------------------------------------------------------------------\u001b[0m",
      "\u001b[1;31mTypeError\u001b[0m                                 Traceback (most recent call last)",
      "\u001b[1;32m~\\AppData\\Local\\Temp/ipykernel_5032/4134984757.py\u001b[0m in \u001b[0;36m<module>\u001b[1;34m\u001b[0m\n\u001b[1;32m----> 1\u001b[1;33m \u001b[0mnext\u001b[0m\u001b[1;33m(\u001b[0m\u001b[0mr\u001b[0m\u001b[1;33m)\u001b[0m\u001b[1;33m\u001b[0m\u001b[1;33m\u001b[0m\u001b[0m\n\u001b[0m",
      "\u001b[1;31mTypeError\u001b[0m: 'range' object is not an iterator"
     ]
    }
   ],
   "source": [
    "next(r)"
   ]
  },
  {
   "cell_type": "code",
   "execution_count": 24,
   "id": "dc402447",
   "metadata": {},
   "outputs": [],
   "source": [
    "r = iter(r)"
   ]
  },
  {
   "cell_type": "code",
   "execution_count": 51,
   "id": "07bf5140",
   "metadata": {},
   "outputs": [
    {
     "data": {
      "text/plain": [
       "1"
      ]
     },
     "execution_count": 51,
     "metadata": {},
     "output_type": "execute_result"
    }
   ],
   "source": [
    "next(r)"
   ]
  },
  {
   "cell_type": "code",
   "execution_count": null,
   "id": "a8a005f8",
   "metadata": {},
   "outputs": [],
   "source": [
    "GENERATOR"
   ]
  },
  {
   "cell_type": "code",
   "execution_count": 28,
   "id": "67718448",
   "metadata": {},
   "outputs": [
    {
     "data": {
      "text/plain": [
       "[0, 3, 6, 9, 12, 15, 18, 21, 24, 27, 30, 33, 36, 39, 42]"
      ]
     },
     "execution_count": 28,
     "metadata": {},
     "output_type": "execute_result"
    }
   ],
   "source": [
    "list(range(0,45,3))"
   ]
  },
  {
   "cell_type": "code",
   "execution_count": 32,
   "id": "820248d8",
   "metadata": {},
   "outputs": [],
   "source": [
    "def gencube(n):\n",
    "    for i in range(n):\n",
    "        return n**3"
   ]
  },
  {
   "cell_type": "code",
   "execution_count": 33,
   "id": "9b6e8e55",
   "metadata": {},
   "outputs": [
    {
     "data": {
      "text/plain": [
       "216"
      ]
     },
     "execution_count": 33,
     "metadata": {},
     "output_type": "execute_result"
    }
   ],
   "source": [
    "gencube(6)"
   ]
  },
  {
   "cell_type": "code",
   "execution_count": 36,
   "id": "1847553a",
   "metadata": {},
   "outputs": [],
   "source": [
    "def gencube(n):\n",
    "    l =[]\n",
    "    for i in range(n):\n",
    "        l.append(i**3)\n",
    "    return l"
   ]
  },
  {
   "cell_type": "code",
   "execution_count": 37,
   "id": "12eeac86",
   "metadata": {},
   "outputs": [
    {
     "data": {
      "text/plain": [
       "[0, 1, 8, 27, 64, 125]"
      ]
     },
     "execution_count": 37,
     "metadata": {},
     "output_type": "execute_result"
    }
   ],
   "source": [
    "gencube(6)"
   ]
  },
  {
   "cell_type": "code",
   "execution_count": 38,
   "id": "34792c53",
   "metadata": {},
   "outputs": [
    {
     "data": {
      "text/plain": [
       "range(0, 2000000000)"
      ]
     },
     "execution_count": 38,
     "metadata": {},
     "output_type": "execute_result"
    }
   ],
   "source": [
    "range(2000000000)"
   ]
  },
  {
   "cell_type": "code",
   "execution_count": 39,
   "id": "12708ee2",
   "metadata": {},
   "outputs": [],
   "source": [
    "def gencube(n):\n",
    "    \n",
    "    for i in range(n):\n",
    "        yield i**3"
   ]
  },
  {
   "cell_type": "code",
   "execution_count": 40,
   "id": "3de0270f",
   "metadata": {},
   "outputs": [
    {
     "data": {
      "text/plain": [
       "<generator object gencube at 0x0000019CFD09BAC0>"
      ]
     },
     "execution_count": 40,
     "metadata": {},
     "output_type": "execute_result"
    }
   ],
   "source": [
    "gencube(10)"
   ]
  },
  {
   "cell_type": "code",
   "execution_count": 45,
   "id": "daa76b76",
   "metadata": {},
   "outputs": [
    {
     "name": "stdout",
     "output_type": "stream",
     "text": [
      "0\n",
      "1\n",
      "8\n",
      "27\n",
      "64\n",
      "125\n",
      "216\n",
      "343\n",
      "512\n",
      "729\n",
      "1000\n",
      "1331\n",
      "1728\n",
      "2197\n",
      "2744\n",
      "3375\n",
      "4096\n",
      "4913\n",
      "5832\n",
      "6859\n",
      "8000\n",
      "9261\n",
      "10648\n",
      "12167\n",
      "13824\n",
      "15625\n",
      "17576\n",
      "19683\n",
      "21952\n",
      "24389\n",
      "27000\n",
      "29791\n",
      "32768\n",
      "35937\n",
      "39304\n",
      "42875\n",
      "46656\n",
      "50653\n",
      "54872\n",
      "59319\n",
      "64000\n",
      "68921\n",
      "74088\n",
      "79507\n",
      "85184\n",
      "91125\n",
      "97336\n",
      "103823\n",
      "110592\n",
      "117649\n",
      "125000\n",
      "132651\n",
      "140608\n",
      "148877\n",
      "157464\n",
      "166375\n",
      "175616\n",
      "185193\n",
      "195112\n",
      "205379\n",
      "216000\n",
      "226981\n",
      "238328\n",
      "250047\n",
      "262144\n",
      "274625\n",
      "287496\n",
      "300763\n",
      "314432\n",
      "328509\n",
      "343000\n",
      "357911\n",
      "373248\n",
      "389017\n",
      "405224\n",
      "421875\n",
      "438976\n",
      "456533\n",
      "474552\n",
      "493039\n",
      "512000\n",
      "531441\n",
      "551368\n",
      "571787\n",
      "592704\n",
      "614125\n",
      "636056\n",
      "658503\n",
      "681472\n",
      "704969\n",
      "729000\n",
      "753571\n",
      "778688\n",
      "804357\n",
      "830584\n",
      "857375\n",
      "884736\n",
      "912673\n",
      "941192\n",
      "970299\n",
      "1000000\n",
      "1030301\n",
      "1061208\n",
      "1092727\n",
      "1124864\n",
      "1157625\n",
      "1191016\n",
      "1225043\n",
      "1259712\n",
      "1295029\n",
      "1331000\n",
      "1367631\n",
      "1404928\n",
      "1442897\n",
      "1481544\n",
      "1520875\n",
      "1560896\n",
      "1601613\n",
      "1643032\n",
      "1685159\n",
      "1728000\n",
      "1771561\n",
      "1815848\n",
      "1860867\n",
      "1906624\n",
      "1953125\n",
      "2000376\n",
      "2048383\n",
      "2097152\n",
      "2146689\n",
      "2197000\n",
      "2248091\n",
      "2299968\n",
      "2352637\n",
      "2406104\n",
      "2460375\n",
      "2515456\n",
      "2571353\n",
      "2628072\n",
      "2685619\n",
      "2744000\n",
      "2803221\n",
      "2863288\n",
      "2924207\n",
      "2985984\n",
      "3048625\n",
      "3112136\n",
      "3176523\n",
      "3241792\n",
      "3307949\n",
      "3375000\n",
      "3442951\n",
      "3511808\n",
      "3581577\n",
      "3652264\n",
      "3723875\n",
      "3796416\n",
      "3869893\n",
      "3944312\n",
      "4019679\n",
      "4096000\n",
      "4173281\n",
      "4251528\n",
      "4330747\n",
      "4410944\n",
      "4492125\n",
      "4574296\n",
      "4657463\n",
      "4741632\n",
      "4826809\n",
      "4913000\n",
      "5000211\n",
      "5088448\n",
      "5177717\n",
      "5268024\n",
      "5359375\n",
      "5451776\n",
      "5545233\n",
      "5639752\n",
      "5735339\n",
      "5832000\n",
      "5929741\n",
      "6028568\n",
      "6128487\n",
      "6229504\n",
      "6331625\n",
      "6434856\n",
      "6539203\n",
      "6644672\n",
      "6751269\n",
      "6859000\n",
      "6967871\n",
      "7077888\n",
      "7189057\n",
      "7301384\n",
      "7414875\n",
      "7529536\n",
      "7645373\n",
      "7762392\n",
      "7880599\n",
      "8000000\n",
      "8120601\n",
      "8242408\n",
      "8365427\n",
      "8489664\n",
      "8615125\n",
      "8741816\n",
      "8869743\n",
      "8998912\n",
      "9129329\n",
      "9261000\n",
      "9393931\n",
      "9528128\n",
      "9663597\n",
      "9800344\n",
      "9938375\n",
      "10077696\n",
      "10218313\n",
      "10360232\n",
      "10503459\n",
      "10648000\n",
      "10793861\n",
      "10941048\n",
      "11089567\n",
      "11239424\n",
      "11390625\n",
      "11543176\n",
      "11697083\n",
      "11852352\n",
      "12008989\n",
      "12167000\n",
      "12326391\n",
      "12487168\n",
      "12649337\n",
      "12812904\n",
      "12977875\n",
      "13144256\n",
      "13312053\n",
      "13481272\n",
      "13651919\n",
      "13824000\n",
      "13997521\n",
      "14172488\n",
      "14348907\n",
      "14526784\n",
      "14706125\n",
      "14886936\n",
      "15069223\n",
      "15252992\n",
      "15438249\n",
      "15625000\n",
      "15813251\n",
      "16003008\n",
      "16194277\n",
      "16387064\n",
      "16581375\n",
      "16777216\n",
      "16974593\n",
      "17173512\n",
      "17373979\n",
      "17576000\n",
      "17779581\n",
      "17984728\n",
      "18191447\n",
      "18399744\n",
      "18609625\n",
      "18821096\n",
      "19034163\n",
      "19248832\n",
      "19465109\n",
      "19683000\n",
      "19902511\n",
      "20123648\n",
      "20346417\n",
      "20570824\n",
      "20796875\n",
      "21024576\n",
      "21253933\n",
      "21484952\n",
      "21717639\n",
      "21952000\n",
      "22188041\n",
      "22425768\n",
      "22665187\n",
      "22906304\n",
      "23149125\n",
      "23393656\n",
      "23639903\n",
      "23887872\n",
      "24137569\n",
      "24389000\n",
      "24642171\n",
      "24897088\n",
      "25153757\n",
      "25412184\n",
      "25672375\n",
      "25934336\n",
      "26198073\n",
      "26463592\n",
      "26730899\n",
      "27000000\n",
      "27270901\n",
      "27543608\n",
      "27818127\n",
      "28094464\n",
      "28372625\n",
      "28652616\n",
      "28934443\n",
      "29218112\n",
      "29503629\n",
      "29791000\n",
      "30080231\n",
      "30371328\n",
      "30664297\n",
      "30959144\n",
      "31255875\n",
      "31554496\n",
      "31855013\n",
      "32157432\n",
      "32461759\n",
      "32768000\n",
      "33076161\n",
      "33386248\n",
      "33698267\n",
      "34012224\n",
      "34328125\n",
      "34645976\n",
      "34965783\n",
      "35287552\n",
      "35611289\n",
      "35937000\n",
      "36264691\n",
      "36594368\n",
      "36926037\n",
      "37259704\n",
      "37595375\n",
      "37933056\n",
      "38272753\n",
      "38614472\n",
      "38958219\n",
      "39304000\n",
      "39651821\n",
      "40001688\n",
      "40353607\n",
      "40707584\n",
      "41063625\n",
      "41421736\n",
      "41781923\n",
      "42144192\n",
      "42508549\n",
      "42875000\n",
      "43243551\n",
      "43614208\n",
      "43986977\n",
      "44361864\n",
      "44738875\n",
      "45118016\n",
      "45499293\n",
      "45882712\n",
      "46268279\n",
      "46656000\n",
      "47045881\n",
      "47437928\n",
      "47832147\n",
      "48228544\n",
      "48627125\n",
      "49027896\n",
      "49430863\n",
      "49836032\n",
      "50243409\n",
      "50653000\n",
      "51064811\n",
      "51478848\n",
      "51895117\n",
      "52313624\n",
      "52734375\n",
      "53157376\n",
      "53582633\n",
      "54010152\n",
      "54439939\n",
      "54872000\n",
      "55306341\n",
      "55742968\n",
      "56181887\n",
      "56623104\n",
      "57066625\n",
      "57512456\n",
      "57960603\n",
      "58411072\n",
      "58863869\n",
      "59319000\n",
      "59776471\n",
      "60236288\n",
      "60698457\n",
      "61162984\n",
      "61629875\n",
      "62099136\n",
      "62570773\n",
      "63044792\n",
      "63521199\n",
      "64000000\n",
      "64481201\n",
      "64964808\n",
      "65450827\n",
      "65939264\n",
      "66430125\n",
      "66923416\n",
      "67419143\n",
      "67917312\n",
      "68417929\n",
      "68921000\n",
      "69426531\n",
      "69934528\n",
      "70444997\n",
      "70957944\n",
      "71473375\n",
      "71991296\n",
      "72511713\n",
      "73034632\n",
      "73560059\n",
      "74088000\n",
      "74618461\n",
      "75151448\n",
      "75686967\n",
      "76225024\n",
      "76765625\n",
      "77308776\n",
      "77854483\n",
      "78402752\n",
      "78953589\n",
      "79507000\n",
      "80062991\n",
      "80621568\n",
      "81182737\n",
      "81746504\n",
      "82312875\n",
      "82881856\n",
      "83453453\n",
      "84027672\n",
      "84604519\n",
      "85184000\n",
      "85766121\n",
      "86350888\n",
      "86938307\n",
      "87528384\n",
      "88121125\n",
      "88716536\n",
      "89314623\n",
      "89915392\n",
      "90518849\n",
      "91125000\n",
      "91733851\n",
      "92345408\n",
      "92959677\n",
      "93576664\n",
      "94196375\n",
      "94818816\n",
      "95443993\n",
      "96071912\n",
      "96702579\n",
      "97336000\n",
      "97972181\n",
      "98611128\n",
      "99252847\n",
      "99897344\n",
      "100544625\n",
      "101194696\n",
      "101847563\n",
      "102503232\n",
      "103161709\n",
      "103823000\n",
      "104487111\n",
      "105154048\n",
      "105823817\n",
      "106496424\n",
      "107171875\n",
      "107850176\n",
      "108531333\n",
      "109215352\n",
      "109902239\n",
      "110592000\n",
      "111284641\n",
      "111980168\n",
      "112678587\n",
      "113379904\n",
      "114084125\n",
      "114791256\n",
      "115501303\n",
      "116214272\n",
      "116930169\n",
      "117649000\n",
      "118370771\n",
      "119095488\n",
      "119823157\n",
      "120553784\n",
      "121287375\n",
      "122023936\n",
      "122763473\n",
      "123505992\n",
      "124251499\n",
      "125000000\n",
      "125751501\n",
      "126506008\n",
      "127263527\n",
      "128024064\n",
      "128787625\n",
      "129554216\n",
      "130323843\n",
      "131096512\n",
      "131872229\n",
      "132651000\n",
      "133432831\n",
      "134217728\n",
      "135005697\n",
      "135796744\n",
      "136590875\n",
      "137388096\n",
      "138188413\n",
      "138991832\n",
      "139798359\n",
      "140608000\n",
      "141420761\n",
      "142236648\n",
      "143055667\n",
      "143877824\n",
      "144703125\n",
      "145531576\n",
      "146363183\n",
      "147197952\n",
      "148035889\n",
      "148877000\n",
      "149721291\n",
      "150568768\n",
      "151419437\n",
      "152273304\n",
      "153130375\n",
      "153990656\n",
      "154854153\n",
      "155720872\n",
      "156590819\n",
      "157464000\n",
      "158340421\n",
      "159220088\n",
      "160103007\n",
      "160989184\n",
      "161878625\n",
      "162771336\n",
      "163667323\n",
      "164566592\n",
      "165469149\n",
      "166375000\n",
      "167284151\n",
      "168196608\n",
      "169112377\n",
      "170031464\n",
      "170953875\n",
      "171879616\n",
      "172808693\n",
      "173741112\n",
      "174676879\n",
      "175616000\n",
      "176558481\n",
      "177504328\n",
      "178453547\n",
      "179406144\n",
      "180362125\n",
      "181321496\n",
      "182284263\n",
      "183250432\n",
      "184220009\n",
      "185193000\n",
      "186169411\n",
      "187149248\n",
      "188132517\n",
      "189119224\n",
      "190109375\n",
      "191102976\n",
      "192100033\n",
      "193100552\n",
      "194104539\n",
      "195112000\n",
      "196122941\n",
      "197137368\n",
      "198155287\n",
      "199176704\n",
      "200201625\n",
      "201230056\n",
      "202262003\n",
      "203297472\n",
      "204336469\n",
      "205379000\n",
      "206425071\n",
      "207474688\n",
      "208527857\n",
      "209584584\n",
      "210644875\n",
      "211708736\n",
      "212776173\n",
      "213847192\n",
      "214921799\n",
      "216000000\n",
      "217081801\n",
      "218167208\n",
      "219256227\n",
      "220348864\n",
      "221445125\n",
      "222545016\n",
      "223648543\n",
      "224755712\n",
      "225866529\n",
      "226981000\n",
      "228099131\n",
      "229220928\n",
      "230346397\n",
      "231475544\n",
      "232608375\n",
      "233744896\n",
      "234885113\n",
      "236029032\n",
      "237176659\n",
      "238328000\n",
      "239483061\n",
      "240641848\n",
      "241804367\n",
      "242970624\n",
      "244140625\n",
      "245314376\n",
      "246491883\n",
      "247673152\n",
      "248858189\n",
      "250047000\n",
      "251239591\n",
      "252435968\n",
      "253636137\n",
      "254840104\n",
      "256047875\n",
      "257259456\n",
      "258474853\n",
      "259694072\n",
      "260917119\n",
      "262144000\n",
      "263374721\n",
      "264609288\n",
      "265847707\n",
      "267089984\n",
      "268336125\n",
      "269586136\n",
      "270840023\n",
      "272097792\n",
      "273359449\n",
      "274625000\n",
      "275894451\n",
      "277167808\n",
      "278445077\n",
      "279726264\n",
      "281011375\n",
      "282300416\n",
      "283593393\n",
      "284890312\n",
      "286191179\n",
      "287496000\n",
      "288804781\n",
      "290117528\n",
      "291434247\n",
      "292754944\n",
      "294079625\n",
      "295408296\n",
      "296740963\n",
      "298077632\n",
      "299418309\n",
      "300763000\n",
      "302111711\n",
      "303464448\n",
      "304821217\n",
      "306182024\n",
      "307546875\n",
      "308915776\n",
      "310288733\n",
      "311665752\n",
      "313046839\n",
      "314432000\n",
      "315821241\n",
      "317214568\n",
      "318611987\n",
      "320013504\n",
      "321419125\n",
      "322828856\n",
      "324242703\n",
      "325660672\n",
      "327082769\n",
      "328509000\n",
      "329939371\n",
      "331373888\n",
      "332812557\n",
      "334255384\n",
      "335702375\n",
      "337153536\n",
      "338608873\n",
      "340068392\n",
      "341532099\n",
      "343000000\n",
      "344472101\n",
      "345948408\n",
      "347428927\n",
      "348913664\n",
      "350402625\n",
      "351895816\n",
      "353393243\n",
      "354894912\n",
      "356400829\n",
      "357911000\n",
      "359425431\n",
      "360944128\n",
      "362467097\n",
      "363994344\n",
      "365525875\n",
      "367061696\n",
      "368601813\n",
      "370146232\n",
      "371694959\n",
      "373248000\n",
      "374805361\n",
      "376367048\n",
      "377933067\n",
      "379503424\n",
      "381078125\n",
      "382657176\n",
      "384240583\n",
      "385828352\n",
      "387420489\n",
      "389017000\n",
      "390617891\n",
      "392223168\n",
      "393832837\n",
      "395446904\n",
      "397065375\n",
      "398688256\n",
      "400315553\n",
      "401947272\n",
      "403583419\n",
      "405224000\n",
      "406869021\n",
      "408518488\n",
      "410172407\n",
      "411830784\n",
      "413493625\n",
      "415160936\n",
      "416832723\n",
      "418508992\n",
      "420189749\n",
      "421875000\n",
      "423564751\n",
      "425259008\n",
      "426957777\n",
      "428661064\n",
      "430368875\n",
      "432081216\n",
      "433798093\n",
      "435519512\n",
      "437245479\n",
      "438976000\n",
      "440711081\n",
      "442450728\n",
      "444194947\n",
      "445943744\n",
      "447697125\n",
      "449455096\n",
      "451217663\n",
      "452984832\n",
      "454756609\n",
      "456533000\n",
      "458314011\n",
      "460099648\n",
      "461889917\n",
      "463684824\n",
      "465484375\n",
      "467288576\n",
      "469097433\n",
      "470910952\n",
      "472729139\n",
      "474552000\n",
      "476379541\n",
      "478211768\n",
      "480048687\n",
      "481890304\n",
      "483736625\n",
      "485587656\n",
      "487443403\n",
      "489303872\n",
      "491169069\n",
      "493039000\n",
      "494913671\n",
      "496793088\n",
      "498677257\n",
      "500566184\n",
      "502459875\n",
      "504358336\n",
      "506261573\n",
      "508169592\n",
      "510082399\n",
      "512000000\n",
      "513922401\n",
      "515849608\n",
      "517781627\n",
      "519718464\n",
      "521660125\n",
      "523606616\n",
      "525557943\n",
      "527514112\n",
      "529475129\n",
      "531441000\n",
      "533411731\n",
      "535387328\n",
      "537367797\n",
      "539353144\n",
      "541343375\n",
      "543338496\n",
      "545338513\n",
      "547343432\n",
      "549353259\n",
      "551368000\n",
      "553387661\n",
      "555412248\n",
      "557441767\n",
      "559476224\n",
      "561515625\n",
      "563559976\n",
      "565609283\n",
      "567663552\n",
      "569722789\n",
      "571787000\n",
      "573856191\n",
      "575930368\n",
      "578009537\n",
      "580093704\n",
      "582182875\n",
      "584277056\n",
      "586376253\n",
      "588480472\n",
      "590589719\n",
      "592704000\n",
      "594823321\n",
      "596947688\n",
      "599077107\n",
      "601211584\n",
      "603351125\n",
      "605495736\n",
      "607645423\n",
      "609800192\n",
      "611960049\n",
      "614125000\n",
      "616295051\n",
      "618470208\n",
      "620650477\n",
      "622835864\n",
      "625026375\n",
      "627222016\n",
      "629422793\n",
      "631628712\n",
      "633839779\n",
      "636056000\n",
      "638277381\n",
      "640503928\n",
      "642735647\n",
      "644972544\n",
      "647214625\n",
      "649461896\n",
      "651714363\n",
      "653972032\n",
      "656234909\n",
      "658503000\n",
      "660776311\n",
      "663054848\n",
      "665338617\n",
      "667627624\n",
      "669921875\n",
      "672221376\n",
      "674526133\n",
      "676836152\n",
      "679151439\n",
      "681472000\n",
      "683797841\n",
      "686128968\n",
      "688465387\n",
      "690807104\n",
      "693154125\n",
      "695506456\n",
      "697864103\n",
      "700227072\n",
      "702595369\n",
      "704969000\n",
      "707347971\n",
      "709732288\n",
      "712121957\n",
      "714516984\n",
      "716917375\n",
      "719323136\n",
      "721734273\n",
      "724150792\n",
      "726572699\n"
     ]
    }
   ],
   "source": [
    "for i in gencube(900):\n",
    "    print(i)"
   ]
  },
  {
   "cell_type": "code",
   "execution_count": 46,
   "id": "35c92190",
   "metadata": {},
   "outputs": [],
   "source": [
    "def fib(n):\n",
    "    a =1\n",
    "    b =1\n",
    "    for i in range(n):\n",
    "        yield a,i\n",
    "        a,b = b, a+b"
   ]
  },
  {
   "cell_type": "code",
   "execution_count": 48,
   "id": "af06ec22",
   "metadata": {},
   "outputs": [
    {
     "name": "stdout",
     "output_type": "stream",
     "text": [
      "(1, 0)\n",
      "(1, 1)\n",
      "(2, 2)\n",
      "(3, 3)\n",
      "(5, 4)\n",
      "(8, 5)\n",
      "(13, 6)\n",
      "(21, 7)\n",
      "(34, 8)\n",
      "(55, 9)\n"
     ]
    }
   ],
   "source": [
    "for i in fib(10):\n",
    "    print(i)"
   ]
  },
  {
   "cell_type": "code",
   "execution_count": 49,
   "id": "2791ddbb",
   "metadata": {},
   "outputs": [],
   "source": [
    "def fib1(n):\n",
    "    a=1\n",
    "    b=1\n",
    "    output=[]\n",
    "    for i in range(n):\n",
    "        output.append(a)\n",
    "        a,b = b,a+b\n",
    "    return output"
   ]
  },
  {
   "cell_type": "code",
   "execution_count": 50,
   "id": "5fbdb77f",
   "metadata": {},
   "outputs": [
    {
     "data": {
      "text/plain": [
       "[1, 1, 2, 3, 5, 8, 13, 21, 34, 55]"
      ]
     },
     "execution_count": 50,
     "metadata": {},
     "output_type": "execute_result"
    }
   ],
   "source": [
    "fib1(10)"
   ]
  },
  {
   "cell_type": "code",
   "execution_count": null,
   "id": "29fd1721",
   "metadata": {},
   "outputs": [],
   "source": [
    "FILE SYSTEM"
   ]
  },
  {
   "cell_type": "code",
   "execution_count": 52,
   "id": "eade1fc2",
   "metadata": {},
   "outputs": [
    {
     "name": "stdout",
     "output_type": "stream",
     "text": [
      "something in console\n"
     ]
    }
   ],
   "source": [
    "print(\"something in console\")"
   ]
  },
  {
   "cell_type": "code",
   "execution_count": 10,
   "id": "4213c095",
   "metadata": {},
   "outputs": [],
   "source": [
    "f = open(\"test1.txt\",\"w\")"
   ]
  },
  {
   "cell_type": "code",
   "execution_count": 11,
   "id": "6debecbb",
   "metadata": {},
   "outputs": [
    {
     "name": "stdout",
     "output_type": "stream",
     "text": [
      " Volume in drive C is Windows\n",
      " Volume Serial Number is 560C-CCE2\n",
      "\n",
      " Directory of C:\\Users\\bewna\n",
      "\n",
      "14-03-2022  15:22    <DIR>          .\n",
      "14-03-2022  15:22    <DIR>          ..\n",
      "17-02-2022  16:43    <DIR>          .conda\n",
      "16-02-2022  10:38                25 .condarc\n",
      "16-02-2022  10:38    <DIR>          .continuum\n",
      "13-03-2022  18:41    <DIR>          .ipynb_checkpoints\n",
      "16-02-2022  17:13    <DIR>          .ipython\n",
      "16-02-2022  10:56    <DIR>          .jupyter\n",
      "14-02-2022  18:36    <DIR>          3D Objects\n",
      "16-02-2022  10:25    <DIR>          anaconda3\n",
      "12-03-2022  19:03            24,477 Args, Lambda, list comprehension.ipynb\n",
      "14-02-2022  18:36    <DIR>          Contacts\n",
      "11-03-2022  16:12            15,971 def, fun, task.ipynb\n",
      "19-02-2022  17:48    <DIR>          Desktop\n",
      "02-03-2022  18:52    <DIR>          Documents\n",
      "14-03-2022  09:21    <DIR>          Downloads\n",
      "14-02-2022  18:36    <DIR>          Favorites\n",
      "09-03-2022  17:17            11,478 Int, gr smr..ipynb\n",
      "14-03-2022  15:20            36,264 Iterator, generator, File system.ipynb\n",
      "14-02-2022  18:36    <DIR>          Links\n",
      "14-02-2022  18:36    <DIR>          Music\n",
      "14-03-2022  15:09    <DIR>          OneDrive\n",
      "14-02-2022  18:40    <DIR>          Pictures\n",
      "25-02-2022  17:26             7,913 Python basic if .ipynb\n",
      "14-02-2022  18:36    <DIR>          Saved Games\n",
      "14-02-2022  18:40    <DIR>          Searches\n",
      "19-02-2022  18:44            40,846 String. List\n",
      "13-03-2022  18:48                 0 test.txt\n",
      "14-03-2022  15:22                 0 test1.txt\n",
      "20-02-2022  14:59            29,181 Tuples, Set, Dict.ipynb\n",
      "16-02-2022  17:15               588 Untitled.ipynb\n",
      "08-03-2022  15:55                 0 untitled.txt\n",
      "16-02-2022  17:32               588 Untitled1.ipynb\n",
      "16-02-2022  17:19                72 Untitled2.ipynb\n",
      "17-02-2022  16:05             2,368 Untitled3.ipynb\n",
      "19-02-2022  18:43            40,846 Untitled4.ipynb\n",
      "19-02-2022  18:44                72 Untitled5.ipynb\n",
      "14-02-2022  18:55    <DIR>          Videos\n",
      "              17 File(s)        210,689 bytes\n",
      "              21 Dir(s)  850,283,769,856 bytes free\n"
     ]
    }
   ],
   "source": [
    "ls"
   ]
  },
  {
   "cell_type": "code",
   "execution_count": 3,
   "id": "aa62cbc1",
   "metadata": {},
   "outputs": [
    {
     "data": {
      "text/plain": [
       "'C:\\\\Users\\\\bewna'"
      ]
     },
     "execution_count": 3,
     "metadata": {},
     "output_type": "execute_result"
    }
   ],
   "source": [
    "pwd()"
   ]
  },
  {
   "cell_type": "code",
   "execution_count": 12,
   "id": "08621ac9",
   "metadata": {},
   "outputs": [],
   "source": [
    "f = open(\"test1.txt\",\"w\")"
   ]
  },
  {
   "cell_type": "code",
   "execution_count": 13,
   "id": "a0ba88c4",
   "metadata": {},
   "outputs": [
    {
     "data": {
      "text/plain": [
       "60"
      ]
     },
     "execution_count": 13,
     "metadata": {},
     "output_type": "execute_result"
    }
   ],
   "source": [
    "f.write(\"this is my first file operation to something in my test2.txt\")"
   ]
  },
  {
   "cell_type": "code",
   "execution_count": 14,
   "id": "d9c07cd3",
   "metadata": {},
   "outputs": [],
   "source": [
    "f.close()"
   ]
  },
  {
   "cell_type": "code",
   "execution_count": 15,
   "id": "2f1f8f55",
   "metadata": {},
   "outputs": [],
   "source": [
    "f = open('test1.txt')"
   ]
  },
  {
   "cell_type": "code",
   "execution_count": 16,
   "id": "9ffd900f",
   "metadata": {},
   "outputs": [],
   "source": [
    "f = open(\"test1.txt\", \"r+\")"
   ]
  },
  {
   "cell_type": "code",
   "execution_count": 17,
   "id": "202e48e0",
   "metadata": {},
   "outputs": [
    {
     "data": {
      "text/plain": [
       "'this is my first file operation to something in my test2.txt'"
      ]
     },
     "execution_count": 17,
     "metadata": {},
     "output_type": "execute_result"
    }
   ],
   "source": [
    "f.read()"
   ]
  },
  {
   "cell_type": "code",
   "execution_count": 18,
   "id": "63d4bccf",
   "metadata": {},
   "outputs": [
    {
     "data": {
      "text/plain": [
       "''"
      ]
     },
     "execution_count": 18,
     "metadata": {},
     "output_type": "execute_result"
    }
   ],
   "source": [
    "f.readline()"
   ]
  },
  {
   "cell_type": "code",
   "execution_count": 19,
   "id": "1ca61895",
   "metadata": {},
   "outputs": [
    {
     "data": {
      "text/plain": [
       "60"
      ]
     },
     "execution_count": 19,
     "metadata": {},
     "output_type": "execute_result"
    }
   ],
   "source": [
    "f.tell()"
   ]
  },
  {
   "cell_type": "code",
   "execution_count": 21,
   "id": "2aa7712e",
   "metadata": {},
   "outputs": [
    {
     "data": {
      "text/plain": [
       "0"
      ]
     },
     "execution_count": 21,
     "metadata": {},
     "output_type": "execute_result"
    }
   ],
   "source": [
    "f.seek(0)"
   ]
  },
  {
   "cell_type": "code",
   "execution_count": 22,
   "id": "829c9fc8",
   "metadata": {},
   "outputs": [
    {
     "data": {
      "text/plain": [
       "'this is my first file operation to something in my test2.txt'"
      ]
     },
     "execution_count": 22,
     "metadata": {},
     "output_type": "execute_result"
    }
   ],
   "source": [
    "f.readline()"
   ]
  },
  {
   "cell_type": "code",
   "execution_count": 23,
   "id": "c0e99eb9",
   "metadata": {},
   "outputs": [],
   "source": [
    "f =open('google.txt', \"w\")"
   ]
  },
  {
   "cell_type": "code",
   "execution_count": 26,
   "id": "f86b68d2",
   "metadata": {},
   "outputs": [
    {
     "data": {
      "text/plain": [
       "386"
      ]
     },
     "execution_count": 26,
     "metadata": {},
     "output_type": "execute_result"
    }
   ],
   "source": [
    "f.write(\"\"\"Google LLC is an American multinational technology company that specializes in Internet-related services and \n",
    "products, which include a search engine, online advertising technologies, cloud computing, software, and hardware. \n",
    "Google’s parent company Alphabet Inc. is considered one of the Big Five American information technology companies, \n",
    "alongside Amazon, Apple, Meta and Microsoft.\"\"\")"
   ]
  },
  {
   "cell_type": "code",
   "execution_count": 27,
   "id": "e821aa2a",
   "metadata": {},
   "outputs": [],
   "source": [
    "f.close()"
   ]
  },
  {
   "cell_type": "code",
   "execution_count": null,
   "id": "b58054f9",
   "metadata": {},
   "outputs": [],
   "source": []
  }
 ],
 "metadata": {
  "kernelspec": {
   "display_name": "Python 3 (ipykernel)",
   "language": "python",
   "name": "python3"
  },
  "language_info": {
   "codemirror_mode": {
    "name": "ipython",
    "version": 3
   },
   "file_extension": ".py",
   "mimetype": "text/x-python",
   "name": "python",
   "nbconvert_exporter": "python",
   "pygments_lexer": "ipython3",
   "version": "3.9.7"
  }
 },
 "nbformat": 4,
 "nbformat_minor": 5
}
