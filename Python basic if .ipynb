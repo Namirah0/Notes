{
 "cells": [
  {
   "cell_type": "code",
   "execution_count": 1,
   "id": "3dcecded",
   "metadata": {},
   "outputs": [],
   "source": [
    "a = 10 "
   ]
  },
  {
   "cell_type": "code",
   "execution_count": 12,
   "id": "b5a0abf6",
   "metadata": {},
   "outputs": [
    {
     "name": "stdout",
     "output_type": "stream",
     "text": [
      "my name is namirah\n"
     ]
    }
   ],
   "source": [
    "if a < 15:\n",
    "    print(\"my name is namirah\")"
   ]
  },
  {
   "cell_type": "code",
   "execution_count": 11,
   "id": "9cd8c92d",
   "metadata": {},
   "outputs": [
    {
     "data": {
      "text/plain": [
       "True"
      ]
     },
     "execution_count": 11,
     "metadata": {},
     "output_type": "execute_result"
    }
   ],
   "source": [
    "a < 15"
   ]
  },
  {
   "cell_type": "code",
   "execution_count": 14,
   "id": "a72f0a66",
   "metadata": {},
   "outputs": [
    {
     "name": "stdout",
     "output_type": "stream",
     "text": [
      "my name is xyz\n"
     ]
    }
   ],
   "source": [
    "if a < 15 :\n",
    "    print(\"my name is xyz\")"
   ]
  },
  {
   "cell_type": "code",
   "execution_count": 15,
   "id": "5b4cf22a",
   "metadata": {},
   "outputs": [],
   "source": [
    "if 24 < 15 :\n",
    "    print(\"my name is namirah\")"
   ]
  },
  {
   "cell_type": "code",
   "execution_count": 16,
   "id": "77ee01ad",
   "metadata": {},
   "outputs": [
    {
     "data": {
      "text/plain": [
       "False"
      ]
     },
     "execution_count": 16,
     "metadata": {},
     "output_type": "execute_result"
    }
   ],
   "source": [
    "24 < 15"
   ]
  },
  {
   "cell_type": "code",
   "execution_count": 22,
   "id": "4a74c9e6",
   "metadata": {},
   "outputs": [
    {
     "name": "stdout",
     "output_type": "stream",
     "text": [
      "if statement is wrong\n"
     ]
    }
   ],
   "source": [
    "if 10 < 3 :\n",
    "    print(\"10 is lesser than 3\")\n",
    "else :\n",
    "    print(\"if statement is wrong\")"
   ]
  },
  {
   "cell_type": "code",
   "execution_count": 25,
   "id": "97b65b87",
   "metadata": {},
   "outputs": [
    {
     "name": "stdout",
     "output_type": "stream",
     "text": [
      "10\n",
      "i will be able to buy phone\n"
     ]
    }
   ],
   "source": [
    "income = int(input())\n",
    "if income < 50:\n",
    "    print(\"i will be able to buy phone\")\n",
    "elif income < 70:\n",
    "    print(\"i will be able to buy car\")\n",
    "elif income < 90:\n",
    "    print(\"i will be able to buy house\")\n",
    "else:\n",
    "    print(\"i won't be able to buy anything\")"
   ]
  },
  {
   "cell_type": "code",
   "execution_count": 30,
   "id": "a0019279",
   "metadata": {},
   "outputs": [
    {
     "name": "stdout",
     "output_type": "stream",
     "text": [
      "4565\n",
      "discount will be 228.25\n"
     ]
    }
   ],
   "source": [
    "Total_price = int(input())\n",
    "if Total_price > 20000 :\n",
    "    discount = Total_price * .20\n",
    "    print(\"Discount will be\" , discount)\n",
    "elif Total_price <= 7000 :\n",
    "    discount = Total_price * .05\n",
    "    print(\"discount will be\" ,  discount)\n",
    "else:\n",
    "    print(\"wont be able to give any discount\")"
   ]
  },
  {
   "cell_type": "code",
   "execution_count": 31,
   "id": "8a8eabdb",
   "metadata": {},
   "outputs": [
    {
     "name": "stdout",
     "output_type": "stream",
     "text": [
      "456\n",
      "No discount\n"
     ]
    }
   ],
   "source": [
    "Total_price = int(input())\n",
    "\n",
    "if Total_price > 20000 :\n",
    "    discount = Total_price * .20\n",
    "    print(\"Discount is\" , discount)\n",
    "elif Total_price <= 7000 :\n",
    "    discount = Total_price * .05\n",
    "    print(\"No discount\")"
   ]
  },
  {
   "cell_type": "code",
   "execution_count": 35,
   "id": "417b0a9c",
   "metadata": {},
   "outputs": [
    {
     "name": "stdout",
     "output_type": "stream",
     "text": [
      "NAMIRAH05\n",
      "you will be abke to get disocunt of 5%\n",
      "you will be able to get one neuron with this amount -49914.00000000001\n"
     ]
    }
   ],
   "source": [
    "coup = input()   \n",
    "if coup == \"NAMIRAH05\" :\n",
    "    print(\"you will be abke to get disocunt of 5%\")\n",
    "    paid_amount = 7080 - 7080*8.05\n",
    "    print(\"you will be able to get one neuron with this amount\" , paid_amount)\n",
    "else :\n",
    "    print(\"kindly use a valid coupon code\")\n",
    "    "
   ]
  },
  {
   "cell_type": "code",
   "execution_count": 36,
   "id": "ee3e478b",
   "metadata": {},
   "outputs": [
    {
     "data": {
      "text/plain": [
       "True"
      ]
     },
     "execution_count": 36,
     "metadata": {},
     "output_type": "execute_result"
    }
   ],
   "source": [
    "\"namirah\" == \"namirah\""
   ]
  },
  {
   "cell_type": "code",
   "execution_count": 37,
   "id": "28dcb0e4",
   "metadata": {},
   "outputs": [
    {
     "name": "stdout",
     "output_type": "stream",
     "text": [
      "valid\n"
     ]
    }
   ],
   "source": [
    "a = 9\n",
    "if a == 9:\n",
    "    print(\"valid\")"
   ]
  },
  {
   "cell_type": "code",
   "execution_count": 44,
   "id": "24660b08",
   "metadata": {},
   "outputs": [
    {
     "ename": "SyntaxError",
     "evalue": "invalid syntax (Temp/ipykernel_1436/2132426655.py, line 5)",
     "output_type": "error",
     "traceback": [
      "\u001b[1;36m  File \u001b[1;32m\"C:\\Users\\bewna\\AppData\\Local\\Temp/ipykernel_1436/2132426655.py\"\u001b[1;36m, line \u001b[1;32m5\u001b[0m\n\u001b[1;33m    elif course==\"blockchain\":\u001b[0m\n\u001b[1;37m    ^\u001b[0m\n\u001b[1;31mSyntaxError\u001b[0m\u001b[1;31m:\u001b[0m invalid syntax\n"
     ]
    }
   ],
   "source": [
    "s = input()\n",
    "if s == \"oneneuron\":\n",
    "    if course == \"DSA\":\n",
    "        print(\"yes its available under one neuron and in multiple mode for job preparation and core concept\")\n",
    "        elif course==\"blockchain\":\n",
    "            print(\"this is not available as of now, kindly raise your demand and we will fulfill in 60 days\")\n",
    "        elif course == \"FSDS\":\n",
    "            print(\"yes uts available, you can start learning\")\n",
    "        else:\n",
    "            print(\"this course is not available, kindly raise your demand\")\n",
    "elif s = \"oneneuronservices\":\n",
    "    if service == \"courserequest\":\n",
    "        print(\"please come back after 30 days\")\n",
    "        "
   ]
  },
  {
   "cell_type": "code",
   "execution_count": 47,
   "id": "4013ad57",
   "metadata": {},
   "outputs": [
    {
     "name": "stdout",
     "output_type": "stream",
     "text": [
      "1\n",
      "2\n",
      "3\n",
      "4\n",
      "5\n",
      "6\n",
      "7\n"
     ]
    }
   ],
   "source": [
    "l = [1,2,3,4,5,6,7]\n",
    "for i in l :\n",
    "    print(i)"
   ]
  },
  {
   "cell_type": "code",
   "execution_count": 49,
   "id": "c9ddd6a8",
   "metadata": {},
   "outputs": [
    {
     "name": "stdout",
     "output_type": "stream",
     "text": [
      "n\n",
      "a\n",
      "m\n",
      "i\n",
      "r\n",
      "a\n",
      "h\n"
     ]
    }
   ],
   "source": [
    "s = \"namirah\"\n",
    "for i in s :\n",
    "    print(i)"
   ]
  },
  {
   "cell_type": "code",
   "execution_count": null,
   "id": "63a929a7",
   "metadata": {},
   "outputs": [],
   "source": []
  }
 ],
 "metadata": {
  "kernelspec": {
   "display_name": "Python 3 (ipykernel)",
   "language": "python",
   "name": "python3"
  },
  "language_info": {
   "codemirror_mode": {
    "name": "ipython",
    "version": 3
   },
   "file_extension": ".py",
   "mimetype": "text/x-python",
   "name": "python",
   "nbconvert_exporter": "python",
   "pygments_lexer": "ipython3",
   "version": "3.9.7"
  }
 },
 "nbformat": 4,
 "nbformat_minor": 5
}
