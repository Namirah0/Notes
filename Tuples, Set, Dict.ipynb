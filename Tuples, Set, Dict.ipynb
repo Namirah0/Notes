{
 "cells": [
  {
   "cell_type": "code",
   "execution_count": 1,
   "id": "9b336190",
   "metadata": {},
   "outputs": [],
   "source": [
    "t = (1,2,3,4,5)"
   ]
  },
  {
   "cell_type": "code",
   "execution_count": 2,
   "id": "b8986fa1",
   "metadata": {},
   "outputs": [
    {
     "data": {
      "text/plain": [
       "tuple"
      ]
     },
     "execution_count": 2,
     "metadata": {},
     "output_type": "execute_result"
    }
   ],
   "source": [
    "type(t)"
   ]
  },
  {
   "cell_type": "code",
   "execution_count": 4,
   "id": "ddb70d2b",
   "metadata": {},
   "outputs": [],
   "source": [
    "t1 = (\"namirah\", 2541, 45+25, 254.10, True)"
   ]
  },
  {
   "cell_type": "code",
   "execution_count": 5,
   "id": "a2bb69b3",
   "metadata": {},
   "outputs": [],
   "source": [
    "l = [\"namirah\", 2541, 45+25, 254.10, True]"
   ]
  },
  {
   "cell_type": "code",
   "execution_count": 6,
   "id": "5bf57933",
   "metadata": {},
   "outputs": [
    {
     "data": {
      "text/plain": [
       "list"
      ]
     },
     "execution_count": 6,
     "metadata": {},
     "output_type": "execute_result"
    }
   ],
   "source": [
    "type(l)"
   ]
  },
  {
   "cell_type": "code",
   "execution_count": 7,
   "id": "9dfce488",
   "metadata": {},
   "outputs": [
    {
     "data": {
      "text/plain": [
       "tuple"
      ]
     },
     "execution_count": 7,
     "metadata": {},
     "output_type": "execute_result"
    }
   ],
   "source": [
    "type(t1)"
   ]
  },
  {
   "cell_type": "code",
   "execution_count": 8,
   "id": "4b19efc5",
   "metadata": {},
   "outputs": [],
   "source": [
    "t2 = ()"
   ]
  },
  {
   "cell_type": "code",
   "execution_count": 9,
   "id": "63b8b2d7",
   "metadata": {},
   "outputs": [
    {
     "data": {
      "text/plain": [
       "tuple"
      ]
     },
     "execution_count": 9,
     "metadata": {},
     "output_type": "execute_result"
    }
   ],
   "source": [
    "type(t2)"
   ]
  },
  {
   "cell_type": "code",
   "execution_count": 10,
   "id": "70de3910",
   "metadata": {},
   "outputs": [
    {
     "data": {
      "text/plain": [
       "('namirah', 2541, 70, 254.1, True)"
      ]
     },
     "execution_count": 10,
     "metadata": {},
     "output_type": "execute_result"
    }
   ],
   "source": [
    "t1"
   ]
  },
  {
   "cell_type": "code",
   "execution_count": 11,
   "id": "f7914b4f",
   "metadata": {},
   "outputs": [
    {
     "data": {
      "text/plain": [
       "['namirah', 2541, 70, 254.1, True]"
      ]
     },
     "execution_count": 11,
     "metadata": {},
     "output_type": "execute_result"
    }
   ],
   "source": [
    "l"
   ]
  },
  {
   "cell_type": "code",
   "execution_count": 12,
   "id": "8a528213",
   "metadata": {},
   "outputs": [
    {
     "data": {
      "text/plain": [
       "['namirah', 2541]"
      ]
     },
     "execution_count": 12,
     "metadata": {},
     "output_type": "execute_result"
    }
   ],
   "source": [
    "l[0:2]"
   ]
  },
  {
   "cell_type": "code",
   "execution_count": 13,
   "id": "1fe3db82",
   "metadata": {},
   "outputs": [
    {
     "data": {
      "text/plain": [
       "('namirah', 2541)"
      ]
     },
     "execution_count": 13,
     "metadata": {},
     "output_type": "execute_result"
    }
   ],
   "source": [
    "t1[0:2]"
   ]
  },
  {
   "cell_type": "code",
   "execution_count": 14,
   "id": "43b6b375",
   "metadata": {},
   "outputs": [
    {
     "data": {
      "text/plain": [
       "(True, 254.1, 70, 2541, 'namirah')"
      ]
     },
     "execution_count": 14,
     "metadata": {},
     "output_type": "execute_result"
    }
   ],
   "source": [
    "t1[::-1]"
   ]
  },
  {
   "cell_type": "code",
   "execution_count": 16,
   "id": "e41f8db8",
   "metadata": {},
   "outputs": [
    {
     "data": {
      "text/plain": [
       "True"
      ]
     },
     "execution_count": 16,
     "metadata": {},
     "output_type": "execute_result"
    }
   ],
   "source": [
    "t1[-1]"
   ]
  },
  {
   "cell_type": "code",
   "execution_count": 17,
   "id": "3fddf95e",
   "metadata": {},
   "outputs": [
    {
     "data": {
      "text/plain": [
       "('namirah', 2541, 70, 254.1, True)"
      ]
     },
     "execution_count": 17,
     "metadata": {},
     "output_type": "execute_result"
    }
   ],
   "source": [
    "t1"
   ]
  },
  {
   "cell_type": "code",
   "execution_count": 18,
   "id": "6fa26c19",
   "metadata": {},
   "outputs": [
    {
     "data": {
      "text/plain": [
       "('namirah', 70, True)"
      ]
     },
     "execution_count": 18,
     "metadata": {},
     "output_type": "execute_result"
    }
   ],
   "source": [
    "t1[0::2]"
   ]
  },
  {
   "cell_type": "code",
   "execution_count": 19,
   "id": "d216fecc",
   "metadata": {},
   "outputs": [
    {
     "data": {
      "text/plain": [
       "['namirah', 2541, 70, 254.1, True]"
      ]
     },
     "execution_count": 19,
     "metadata": {},
     "output_type": "execute_result"
    }
   ],
   "source": [
    "l"
   ]
  },
  {
   "cell_type": "code",
   "execution_count": 20,
   "id": "d90515f7",
   "metadata": {},
   "outputs": [],
   "source": [
    "l1 = [0,2,5,7]"
   ]
  },
  {
   "cell_type": "code",
   "execution_count": 24,
   "id": "51586ab1",
   "metadata": {},
   "outputs": [],
   "source": [
    "l[0] = \"bewnak\""
   ]
  },
  {
   "cell_type": "code",
   "execution_count": 25,
   "id": "fc5a56ee",
   "metadata": {},
   "outputs": [
    {
     "data": {
      "text/plain": [
       "['bewnak', 2541, 70, 254.1, True]"
      ]
     },
     "execution_count": 25,
     "metadata": {},
     "output_type": "execute_result"
    }
   ],
   "source": [
    "l"
   ]
  },
  {
   "cell_type": "code",
   "execution_count": 26,
   "id": "01a8304c",
   "metadata": {},
   "outputs": [
    {
     "data": {
      "text/plain": [
       "('namirah', 2541, 70, 254.1, True)"
      ]
     },
     "execution_count": 26,
     "metadata": {},
     "output_type": "execute_result"
    }
   ],
   "source": [
    "t1"
   ]
  },
  {
   "cell_type": "code",
   "execution_count": 27,
   "id": "6ec8cf1d",
   "metadata": {},
   "outputs": [
    {
     "ename": "TypeError",
     "evalue": "'tuple' object does not support item assignment",
     "output_type": "error",
     "traceback": [
      "\u001b[1;31m---------------------------------------------------------------------------\u001b[0m",
      "\u001b[1;31mTypeError\u001b[0m                                 Traceback (most recent call last)",
      "\u001b[1;32m~\\AppData\\Local\\Temp/ipykernel_3012/2969889015.py\u001b[0m in \u001b[0;36m<module>\u001b[1;34m\u001b[0m\n\u001b[1;32m----> 1\u001b[1;33m \u001b[0mt1\u001b[0m\u001b[1;33m[\u001b[0m\u001b[1;36m0\u001b[0m\u001b[1;33m]\u001b[0m \u001b[1;33m=\u001b[0m \u001b[1;34m\"manth\"\u001b[0m\u001b[1;33m\u001b[0m\u001b[1;33m\u001b[0m\u001b[0m\n\u001b[0m",
      "\u001b[1;31mTypeError\u001b[0m: 'tuple' object does not support item assignment"
     ]
    }
   ],
   "source": [
    "t1[0] = \"manth\""
   ]
  },
  {
   "cell_type": "code",
   "execution_count": 28,
   "id": "2be47173",
   "metadata": {},
   "outputs": [
    {
     "data": {
      "text/plain": [
       "('namirah', 2541, 70, 254.1, True)"
      ]
     },
     "execution_count": 28,
     "metadata": {},
     "output_type": "execute_result"
    }
   ],
   "source": [
    "t1"
   ]
  },
  {
   "cell_type": "code",
   "execution_count": 29,
   "id": "1c40947b",
   "metadata": {},
   "outputs": [],
   "source": [
    "t2 = (9,8,7,6)"
   ]
  },
  {
   "cell_type": "code",
   "execution_count": 30,
   "id": "a9c2d8ce",
   "metadata": {},
   "outputs": [
    {
     "data": {
      "text/plain": [
       "('namirah', 2541, 70, 254.1, True, 9, 8, 7, 6)"
      ]
     },
     "execution_count": 30,
     "metadata": {},
     "output_type": "execute_result"
    }
   ],
   "source": [
    "t1+t2"
   ]
  },
  {
   "cell_type": "code",
   "execution_count": 31,
   "id": "014b6c66",
   "metadata": {},
   "outputs": [
    {
     "data": {
      "text/plain": [
       "['bewnak', 2541, 70, 254.1, True]"
      ]
     },
     "execution_count": 31,
     "metadata": {},
     "output_type": "execute_result"
    }
   ],
   "source": [
    "l"
   ]
  },
  {
   "cell_type": "code",
   "execution_count": 32,
   "id": "14ebe9ae",
   "metadata": {},
   "outputs": [
    {
     "data": {
      "text/plain": [
       "[0, 2, 5, 7]"
      ]
     },
     "execution_count": 32,
     "metadata": {},
     "output_type": "execute_result"
    }
   ],
   "source": [
    "l1"
   ]
  },
  {
   "cell_type": "code",
   "execution_count": 33,
   "id": "0c230dbf",
   "metadata": {},
   "outputs": [
    {
     "data": {
      "text/plain": [
       "['bewnak', 2541, 70, 254.1, True, 0, 2, 5, 7]"
      ]
     },
     "execution_count": 33,
     "metadata": {},
     "output_type": "execute_result"
    }
   ],
   "source": [
    "l+l1"
   ]
  },
  {
   "cell_type": "code",
   "execution_count": 35,
   "id": "a18f8238",
   "metadata": {},
   "outputs": [
    {
     "data": {
      "text/plain": [
       "('namirah', 2541, 70, 254.1, True, 'namirah', 2541, 70, 254.1, True)"
      ]
     },
     "execution_count": 35,
     "metadata": {},
     "output_type": "execute_result"
    }
   ],
   "source": [
    "t1*2"
   ]
  },
  {
   "cell_type": "code",
   "execution_count": 36,
   "id": "88b00bd5",
   "metadata": {},
   "outputs": [
    {
     "data": {
      "text/plain": [
       "('namirah', 2541, 70, 254.1, True)"
      ]
     },
     "execution_count": 36,
     "metadata": {},
     "output_type": "execute_result"
    }
   ],
   "source": [
    "t1"
   ]
  },
  {
   "cell_type": "code",
   "execution_count": 37,
   "id": "f79efdff",
   "metadata": {},
   "outputs": [
    {
     "data": {
      "text/plain": [
       "['bewnak', 2541, 70, 254.1, True]"
      ]
     },
     "execution_count": 37,
     "metadata": {},
     "output_type": "execute_result"
    }
   ],
   "source": [
    "l"
   ]
  },
  {
   "cell_type": "code",
   "execution_count": 38,
   "id": "aa2a63c1",
   "metadata": {},
   "outputs": [
    {
     "data": {
      "text/plain": [
       "('namirah', 2541, 70, 254.1, True)"
      ]
     },
     "execution_count": 38,
     "metadata": {},
     "output_type": "execute_result"
    }
   ],
   "source": [
    "t1"
   ]
  },
  {
   "cell_type": "code",
   "execution_count": 39,
   "id": "e9a4ec84",
   "metadata": {},
   "outputs": [
    {
     "data": {
      "text/plain": [
       "1"
      ]
     },
     "execution_count": 39,
     "metadata": {},
     "output_type": "execute_result"
    }
   ],
   "source": [
    "t1.count(\"namirah\")"
   ]
  },
  {
   "cell_type": "code",
   "execution_count": 40,
   "id": "33c61d6d",
   "metadata": {},
   "outputs": [
    {
     "data": {
      "text/plain": [
       "0"
      ]
     },
     "execution_count": 40,
     "metadata": {},
     "output_type": "execute_result"
    }
   ],
   "source": [
    "t1.index(\"namirah\")"
   ]
  },
  {
   "cell_type": "code",
   "execution_count": 41,
   "id": "a9daefa2",
   "metadata": {},
   "outputs": [
    {
     "data": {
      "text/plain": [
       "['bewnak', 2541, 70, 254.1, True]"
      ]
     },
     "execution_count": 41,
     "metadata": {},
     "output_type": "execute_result"
    }
   ],
   "source": [
    "l"
   ]
  },
  {
   "cell_type": "code",
   "execution_count": 44,
   "id": "132c3040",
   "metadata": {},
   "outputs": [],
   "source": [
    "t = (1,4,7,2, (1,9,7,5,), \"Namirah\")"
   ]
  },
  {
   "cell_type": "code",
   "execution_count": 45,
   "id": "07fd4a2a",
   "metadata": {},
   "outputs": [
    {
     "data": {
      "text/plain": [
       "(1, 4, 7, 2, (1, 9, 7, 5), 'Namirah')"
      ]
     },
     "execution_count": 45,
     "metadata": {},
     "output_type": "execute_result"
    }
   ],
   "source": [
    "t"
   ]
  },
  {
   "cell_type": "code",
   "execution_count": 48,
   "id": "314cb627",
   "metadata": {},
   "outputs": [],
   "source": [
    "t1 = ([3,7,8,5] , (\"hg\",2,8,) , \"Nami\")"
   ]
  },
  {
   "cell_type": "code",
   "execution_count": 49,
   "id": "5f6fb987",
   "metadata": {},
   "outputs": [
    {
     "data": {
      "text/plain": [
       "([3, 7, 8, 5], ('hg', 2, 8), 'Nami')"
      ]
     },
     "execution_count": 49,
     "metadata": {},
     "output_type": "execute_result"
    }
   ],
   "source": [
    "t1"
   ]
  },
  {
   "cell_type": "code",
   "execution_count": 52,
   "id": "3951b495",
   "metadata": {},
   "outputs": [],
   "source": [
    "t1[0][2] = \"nami\""
   ]
  },
  {
   "cell_type": "code",
   "execution_count": 53,
   "id": "ebc8ae33",
   "metadata": {},
   "outputs": [
    {
     "data": {
      "text/plain": [
       "([3, 7, 'nami', 5], ('hg', 2, 8), 'Nami')"
      ]
     },
     "execution_count": 53,
     "metadata": {},
     "output_type": "execute_result"
    }
   ],
   "source": [
    "t1"
   ]
  },
  {
   "cell_type": "code",
   "execution_count": 54,
   "id": "02d2508b",
   "metadata": {},
   "outputs": [],
   "source": [
    "t1 = (54,7,21,21,3)"
   ]
  },
  {
   "cell_type": "code",
   "execution_count": 55,
   "id": "12b45db6",
   "metadata": {},
   "outputs": [
    {
     "data": {
      "text/plain": [
       "list[54, 7, 21, 21, 3]"
      ]
     },
     "execution_count": 55,
     "metadata": {},
     "output_type": "execute_result"
    }
   ],
   "source": [
    "list[t1]"
   ]
  },
  {
   "cell_type": "code",
   "execution_count": 56,
   "id": "1d61fe03",
   "metadata": {},
   "outputs": [
    {
     "data": {
      "text/plain": [
       "['bewnak', 2541, 70, 254.1, True]"
      ]
     },
     "execution_count": 56,
     "metadata": {},
     "output_type": "execute_result"
    }
   ],
   "source": [
    "l"
   ]
  },
  {
   "cell_type": "code",
   "execution_count": 57,
   "id": "91ddef2b",
   "metadata": {},
   "outputs": [
    {
     "data": {
      "text/plain": [
       "('bewnak', 2541, 70, 254.1, True)"
      ]
     },
     "execution_count": 57,
     "metadata": {},
     "output_type": "execute_result"
    }
   ],
   "source": [
    "tuple(l)"
   ]
  },
  {
   "cell_type": "code",
   "execution_count": 58,
   "id": "ef4731a5",
   "metadata": {},
   "outputs": [],
   "source": [
    "l = [12,2,5,8,5,5,7,8,9,2,14,5,8,5,6]"
   ]
  },
  {
   "cell_type": "code",
   "execution_count": 59,
   "id": "f3b99435",
   "metadata": {},
   "outputs": [
    {
     "data": {
      "text/plain": [
       "{2, 5, 6, 7, 8, 9, 12, 14}"
      ]
     },
     "execution_count": 59,
     "metadata": {},
     "output_type": "execute_result"
    }
   ],
   "source": [
    "set(l)"
   ]
  },
  {
   "cell_type": "code",
   "execution_count": 60,
   "id": "4ed43e38",
   "metadata": {},
   "outputs": [],
   "source": [
    "s = {}"
   ]
  },
  {
   "cell_type": "code",
   "execution_count": 61,
   "id": "3445ef74",
   "metadata": {},
   "outputs": [
    {
     "data": {
      "text/plain": [
       "dict"
      ]
     },
     "execution_count": 61,
     "metadata": {},
     "output_type": "execute_result"
    }
   ],
   "source": [
    "type(s)"
   ]
  },
  {
   "cell_type": "code",
   "execution_count": 62,
   "id": "acdc71eb",
   "metadata": {},
   "outputs": [],
   "source": [
    "s1 = {1,2,3}"
   ]
  },
  {
   "cell_type": "code",
   "execution_count": 63,
   "id": "76a4d706",
   "metadata": {},
   "outputs": [
    {
     "data": {
      "text/plain": [
       "set"
      ]
     },
     "execution_count": 63,
     "metadata": {},
     "output_type": "execute_result"
    }
   ],
   "source": [
    "type(s1)"
   ]
  },
  {
   "cell_type": "code",
   "execution_count": 64,
   "id": "cead1eba",
   "metadata": {},
   "outputs": [],
   "source": [
    "s2 = {1,8,5,5,5,4,4,5,2,6,8,7,4,5,6,8,4,5}"
   ]
  },
  {
   "cell_type": "code",
   "execution_count": 65,
   "id": "f41c4705",
   "metadata": {},
   "outputs": [
    {
     "data": {
      "text/plain": [
       "{1, 2, 4, 5, 6, 7, 8}"
      ]
     },
     "execution_count": 65,
     "metadata": {},
     "output_type": "execute_result"
    }
   ],
   "source": [
    "s2"
   ]
  },
  {
   "cell_type": "code",
   "execution_count": 67,
   "id": "6fa95bd4",
   "metadata": {},
   "outputs": [
    {
     "data": {
      "text/plain": [
       "[1, 2, 4, 5, 6, 7, 8]"
      ]
     },
     "execution_count": 67,
     "metadata": {},
     "output_type": "execute_result"
    }
   ],
   "source": [
    "list(s2)"
   ]
  },
  {
   "cell_type": "code",
   "execution_count": 68,
   "id": "19cd4ea4",
   "metadata": {},
   "outputs": [
    {
     "data": {
      "text/plain": [
       "{1, 2, 4, 5, 6, 7, 8}"
      ]
     },
     "execution_count": 68,
     "metadata": {},
     "output_type": "execute_result"
    }
   ],
   "source": [
    "s2"
   ]
  },
  {
   "cell_type": "code",
   "execution_count": 69,
   "id": "cc2971d6",
   "metadata": {},
   "outputs": [],
   "source": [
    "s2.add(214)"
   ]
  },
  {
   "cell_type": "code",
   "execution_count": 70,
   "id": "ee39422b",
   "metadata": {},
   "outputs": [
    {
     "data": {
      "text/plain": [
       "{1, 2, 4, 5, 6, 7, 8, 214}"
      ]
     },
     "execution_count": 70,
     "metadata": {},
     "output_type": "execute_result"
    }
   ],
   "source": [
    "s2"
   ]
  },
  {
   "cell_type": "code",
   "execution_count": 71,
   "id": "bc5e24f1",
   "metadata": {},
   "outputs": [],
   "source": [
    "s2.add(\"namirah\")"
   ]
  },
  {
   "cell_type": "code",
   "execution_count": 72,
   "id": "822eb723",
   "metadata": {},
   "outputs": [
    {
     "data": {
      "text/plain": [
       "{1, 2, 214, 4, 5, 6, 7, 8, 'namirah'}"
      ]
     },
     "execution_count": 72,
     "metadata": {},
     "output_type": "execute_result"
    }
   ],
   "source": [
    "s2"
   ]
  },
  {
   "cell_type": "code",
   "execution_count": 74,
   "id": "416ff2ea",
   "metadata": {},
   "outputs": [
    {
     "ename": "TypeError",
     "evalue": "unhashable type: 'list'",
     "output_type": "error",
     "traceback": [
      "\u001b[1;31m---------------------------------------------------------------------------\u001b[0m",
      "\u001b[1;31mTypeError\u001b[0m                                 Traceback (most recent call last)",
      "\u001b[1;32m~\\AppData\\Local\\Temp/ipykernel_3012/2388772788.py\u001b[0m in \u001b[0;36m<module>\u001b[1;34m\u001b[0m\n\u001b[1;32m----> 1\u001b[1;33m \u001b[0ms2\u001b[0m\u001b[1;33m.\u001b[0m\u001b[0madd\u001b[0m\u001b[1;33m(\u001b[0m\u001b[1;33m[\u001b[0m\u001b[1;36m2\u001b[0m\u001b[1;33m,\u001b[0m\u001b[1;36m4\u001b[0m\u001b[1;33m,\u001b[0m\u001b[1;36m5\u001b[0m\u001b[1;33m,\u001b[0m\u001b[1;36m8\u001b[0m\u001b[1;33m,\u001b[0m\u001b[1;36m9\u001b[0m\u001b[1;33m]\u001b[0m\u001b[1;33m)\u001b[0m\u001b[1;33m\u001b[0m\u001b[1;33m\u001b[0m\u001b[0m\n\u001b[0m",
      "\u001b[1;31mTypeError\u001b[0m: unhashable type: 'list'"
     ]
    }
   ],
   "source": [
    "s2.add([2,4,5,8,9])"
   ]
  },
  {
   "cell_type": "code",
   "execution_count": 78,
   "id": "72fa336b",
   "metadata": {},
   "outputs": [],
   "source": [
    "s = {(2,5,4,7), 5,6,4,7,7}"
   ]
  },
  {
   "cell_type": "code",
   "execution_count": 76,
   "id": "ff8165bc",
   "metadata": {},
   "outputs": [
    {
     "data": {
      "text/plain": [
       "{}"
      ]
     },
     "execution_count": 76,
     "metadata": {},
     "output_type": "execute_result"
    }
   ],
   "source": [
    "s"
   ]
  },
  {
   "cell_type": "code",
   "execution_count": 79,
   "id": "cde7c090",
   "metadata": {},
   "outputs": [
    {
     "data": {
      "text/plain": [
       "{(2, 5, 4, 7), 4, 5, 6, 7}"
      ]
     },
     "execution_count": 79,
     "metadata": {},
     "output_type": "execute_result"
    }
   ],
   "source": [
    "s"
   ]
  },
  {
   "cell_type": "code",
   "execution_count": 80,
   "id": "59bc2fd8",
   "metadata": {},
   "outputs": [],
   "source": [
    "s.remove(4)"
   ]
  },
  {
   "cell_type": "code",
   "execution_count": 81,
   "id": "4e5604be",
   "metadata": {},
   "outputs": [
    {
     "data": {
      "text/plain": [
       "{(2, 5, 4, 7), 5, 6, 7}"
      ]
     },
     "execution_count": 81,
     "metadata": {},
     "output_type": "execute_result"
    }
   ],
   "source": [
    "s"
   ]
  },
  {
   "cell_type": "code",
   "execution_count": 82,
   "id": "e40b09de",
   "metadata": {},
   "outputs": [],
   "source": [
    "s.discard(5)"
   ]
  },
  {
   "cell_type": "code",
   "execution_count": 83,
   "id": "6609930c",
   "metadata": {},
   "outputs": [
    {
     "data": {
      "text/plain": [
       "{(2, 5, 4, 7), 6, 7}"
      ]
     },
     "execution_count": 83,
     "metadata": {},
     "output_type": "execute_result"
    }
   ],
   "source": [
    "s"
   ]
  },
  {
   "cell_type": "code",
   "execution_count": 84,
   "id": "0bc06b13",
   "metadata": {
    "scrolled": true
   },
   "outputs": [
    {
     "ename": "KeyError",
     "evalue": "45",
     "output_type": "error",
     "traceback": [
      "\u001b[1;31m---------------------------------------------------------------------------\u001b[0m",
      "\u001b[1;31mKeyError\u001b[0m                                  Traceback (most recent call last)",
      "\u001b[1;32m~\\AppData\\Local\\Temp/ipykernel_3012/2010124880.py\u001b[0m in \u001b[0;36m<module>\u001b[1;34m\u001b[0m\n\u001b[1;32m----> 1\u001b[1;33m \u001b[0ms\u001b[0m\u001b[1;33m.\u001b[0m\u001b[0mremove\u001b[0m\u001b[1;33m(\u001b[0m\u001b[1;36m45\u001b[0m\u001b[1;33m)\u001b[0m\u001b[1;33m\u001b[0m\u001b[1;33m\u001b[0m\u001b[0m\n\u001b[0m",
      "\u001b[1;31mKeyError\u001b[0m: 45"
     ]
    }
   ],
   "source": [
    "s.remove(45)"
   ]
  },
  {
   "cell_type": "code",
   "execution_count": 86,
   "id": "95cbd948",
   "metadata": {},
   "outputs": [],
   "source": [
    "s.discard(45)"
   ]
  },
  {
   "cell_type": "code",
   "execution_count": 90,
   "id": "718dd93d",
   "metadata": {},
   "outputs": [
    {
     "data": {
      "text/plain": [
       "{'Namirah', 'namirah'}"
      ]
     },
     "execution_count": 90,
     "metadata": {},
     "output_type": "execute_result"
    }
   ],
   "source": [
    "{\"namirah\",\"Namirah\"}"
   ]
  },
  {
   "cell_type": "code",
   "execution_count": 93,
   "id": "6106b991",
   "metadata": {},
   "outputs": [],
   "source": [
    "s = {4,5,6,78, 9,7,8,9, \"nami\" , \"nami\"}"
   ]
  },
  {
   "cell_type": "code",
   "execution_count": 94,
   "id": "c4fa68f1",
   "metadata": {},
   "outputs": [
    {
     "data": {
      "text/plain": [
       "{4, 5, 6, 7, 78, 8, 9, 'nami'}"
      ]
     },
     "execution_count": 94,
     "metadata": {},
     "output_type": "execute_result"
    }
   ],
   "source": [
    "s"
   ]
  },
  {
   "cell_type": "code",
   "execution_count": 95,
   "id": "40abe75f",
   "metadata": {},
   "outputs": [],
   "source": [
    "l = [1,8,75,5,]"
   ]
  },
  {
   "cell_type": "code",
   "execution_count": 96,
   "id": "b85eb38a",
   "metadata": {},
   "outputs": [
    {
     "data": {
      "text/plain": [
       "[1, 8, 75, 5]"
      ]
     },
     "execution_count": 96,
     "metadata": {},
     "output_type": "execute_result"
    }
   ],
   "source": [
    "l"
   ]
  },
  {
   "cell_type": "code",
   "execution_count": 97,
   "id": "9ab25c6a",
   "metadata": {},
   "outputs": [
    {
     "data": {
      "text/plain": [
       "{1, 5, 8, 75}"
      ]
     },
     "execution_count": 97,
     "metadata": {},
     "output_type": "execute_result"
    }
   ],
   "source": [
    "set(l)"
   ]
  },
  {
   "cell_type": "code",
   "execution_count": 98,
   "id": "49478c23",
   "metadata": {},
   "outputs": [],
   "source": [
    "d = {}"
   ]
  },
  {
   "cell_type": "code",
   "execution_count": 99,
   "id": "03b2f811",
   "metadata": {},
   "outputs": [
    {
     "data": {
      "text/plain": [
       "dict"
      ]
     },
     "execution_count": 99,
     "metadata": {},
     "output_type": "execute_result"
    }
   ],
   "source": [
    "type(d)"
   ]
  },
  {
   "cell_type": "code",
   "execution_count": 100,
   "id": "a591671d",
   "metadata": {},
   "outputs": [],
   "source": [
    "d = {2,5}"
   ]
  },
  {
   "cell_type": "code",
   "execution_count": 101,
   "id": "ecd5113a",
   "metadata": {},
   "outputs": [
    {
     "data": {
      "text/plain": [
       "set"
      ]
     },
     "execution_count": 101,
     "metadata": {},
     "output_type": "execute_result"
    }
   ],
   "source": [
    "type (d)"
   ]
  },
  {
   "cell_type": "code",
   "execution_count": 102,
   "id": "72e4566e",
   "metadata": {},
   "outputs": [],
   "source": [
    "d = {4:\"nami\"}"
   ]
  },
  {
   "cell_type": "code",
   "execution_count": 109,
   "id": "77a3e395",
   "metadata": {},
   "outputs": [],
   "source": [
    "d1 = {\"key1\" : 4475 , \"key2\" : \"key3\" , 45 : [3,5,4,7]}"
   ]
  },
  {
   "cell_type": "code",
   "execution_count": 106,
   "id": "0a593a7e",
   "metadata": {},
   "outputs": [],
   "source": [
    "l = [3,4,5,6,7]"
   ]
  },
  {
   "cell_type": "code",
   "execution_count": 107,
   "id": "164cb776",
   "metadata": {},
   "outputs": [
    {
     "data": {
      "text/plain": [
       "3"
      ]
     },
     "execution_count": 107,
     "metadata": {},
     "output_type": "execute_result"
    }
   ],
   "source": [
    "l[0]"
   ]
  },
  {
   "cell_type": "code",
   "execution_count": 110,
   "id": "6a8e5e29",
   "metadata": {},
   "outputs": [
    {
     "data": {
      "text/plain": [
       "{'key1': 4475, 'key2': 'key3', 45: [3, 5, 4, 7]}"
      ]
     },
     "execution_count": 110,
     "metadata": {},
     "output_type": "execute_result"
    }
   ],
   "source": [
    "d1"
   ]
  },
  {
   "cell_type": "code",
   "execution_count": 112,
   "id": "043f5fdf",
   "metadata": {},
   "outputs": [
    {
     "data": {
      "text/plain": [
       "4475"
      ]
     },
     "execution_count": 112,
     "metadata": {},
     "output_type": "execute_result"
    }
   ],
   "source": [
    "d1[\"key1\"]"
   ]
  },
  {
   "cell_type": "code",
   "execution_count": 113,
   "id": "c8243697",
   "metadata": {},
   "outputs": [
    {
     "data": {
      "text/plain": [
       "[3, 5, 4, 7]"
      ]
     },
     "execution_count": 113,
     "metadata": {},
     "output_type": "execute_result"
    }
   ],
   "source": [
    "d1[45]"
   ]
  },
  {
   "cell_type": "code",
   "execution_count": 114,
   "id": "36544e83",
   "metadata": {},
   "outputs": [],
   "source": [
    "d = {3 : [\"namira\" , \"nami\" , 4,5,5,8,8]}"
   ]
  },
  {
   "cell_type": "code",
   "execution_count": 121,
   "id": "7721927e",
   "metadata": {},
   "outputs": [],
   "source": [
    "d1 = {\"key1\": [2,3,4], \"key2\": \"namira\" , \"keys\":45}"
   ]
  },
  {
   "cell_type": "code",
   "execution_count": 123,
   "id": "d2dea4c8",
   "metadata": {},
   "outputs": [
    {
     "data": {
      "text/plain": [
       "[2, 3, 4]"
      ]
     },
     "execution_count": 123,
     "metadata": {},
     "output_type": "execute_result"
    }
   ],
   "source": [
    "d1[\"key1\"]"
   ]
  },
  {
   "cell_type": "code",
   "execution_count": 124,
   "id": "f5440e16",
   "metadata": {},
   "outputs": [],
   "source": [
    "d3 = {\"*++++\": \"venue\"}"
   ]
  },
  {
   "cell_type": "code",
   "execution_count": 125,
   "id": "cf2fd957",
   "metadata": {},
   "outputs": [
    {
     "data": {
      "text/plain": [
       "{'key1': [2, 3, 4], 'key2': 'namira', 'keys': 45}"
      ]
     },
     "execution_count": 125,
     "metadata": {},
     "output_type": "execute_result"
    }
   ],
   "source": [
    "d1"
   ]
  },
  {
   "cell_type": "code",
   "execution_count": 126,
   "id": "058c33a5",
   "metadata": {},
   "outputs": [
    {
     "data": {
      "text/plain": [
       "dict_keys([3])"
      ]
     },
     "execution_count": 126,
     "metadata": {},
     "output_type": "execute_result"
    }
   ],
   "source": [
    "d.keys()"
   ]
  },
  {
   "cell_type": "code",
   "execution_count": 127,
   "id": "b6153781",
   "metadata": {},
   "outputs": [
    {
     "data": {
      "text/plain": [
       "dict_values([['namira', 'nami', 4, 5, 5, 8, 8]])"
      ]
     },
     "execution_count": 127,
     "metadata": {},
     "output_type": "execute_result"
    }
   ],
   "source": [
    "d.values()"
   ]
  },
  {
   "cell_type": "code",
   "execution_count": 128,
   "id": "1fd768fd",
   "metadata": {},
   "outputs": [
    {
     "data": {
      "text/plain": [
       "dict_items([(3, ['namira', 'nami', 4, 5, 5, 8, 8])])"
      ]
     },
     "execution_count": 128,
     "metadata": {},
     "output_type": "execute_result"
    }
   ],
   "source": [
    "d.items()"
   ]
  },
  {
   "cell_type": "code",
   "execution_count": null,
   "id": "630abe98",
   "metadata": {},
   "outputs": [],
   "source": []
  }
 ],
 "metadata": {
  "kernelspec": {
   "display_name": "Python 3 (ipykernel)",
   "language": "python",
   "name": "python3"
  },
  "language_info": {
   "codemirror_mode": {
    "name": "ipython",
    "version": 3
   },
   "file_extension": ".py",
   "mimetype": "text/x-python",
   "name": "python",
   "nbconvert_exporter": "python",
   "pygments_lexer": "ipython3",
   "version": "3.9.7"
  }
 },
 "nbformat": 4,
 "nbformat_minor": 5
}
