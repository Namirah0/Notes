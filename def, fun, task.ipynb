{
 "cells": [
  {
   "cell_type": "code",
   "execution_count": 17,
   "id": "c0968ef4",
   "metadata": {},
   "outputs": [
    {
     "data": {
      "text/plain": [
       "7"
      ]
     },
     "execution_count": 17,
     "metadata": {},
     "output_type": "execute_result"
    }
   ],
   "source": [
    "len(\"namirah\")"
   ]
  },
  {
   "cell_type": "code",
   "execution_count": 2,
   "id": "8daa4548",
   "metadata": {},
   "outputs": [
    {
     "name": "stdout",
     "output_type": "stream",
     "text": [
      "sdgyehshjsn\n"
     ]
    }
   ],
   "source": [
    "print(\"sdgyehshjsn\")"
   ]
  },
  {
   "cell_type": "code",
   "execution_count": 5,
   "id": "1af13774",
   "metadata": {},
   "outputs": [],
   "source": [
    "def test():\n",
    "    pass"
   ]
  },
  {
   "cell_type": "code",
   "execution_count": 6,
   "id": "5f514bd0",
   "metadata": {},
   "outputs": [],
   "source": [
    "def test1():\n",
    "    print(\"this is my first function\")"
   ]
  },
  {
   "cell_type": "code",
   "execution_count": 10,
   "id": "2abe5051",
   "metadata": {},
   "outputs": [
    {
     "name": "stdout",
     "output_type": "stream",
     "text": [
      "this is my first function\n"
     ]
    }
   ],
   "source": [
    "test1()"
   ]
  },
  {
   "cell_type": "code",
   "execution_count": 14,
   "id": "89755d96",
   "metadata": {},
   "outputs": [
    {
     "ename": "TypeError",
     "evalue": "unsupported operand type(s) for +: 'NoneType' and 'str'",
     "output_type": "error",
     "traceback": [
      "\u001b[1;31m---------------------------------------------------------------------------\u001b[0m",
      "\u001b[1;31mTypeError\u001b[0m                                 Traceback (most recent call last)",
      "\u001b[1;32m~\\AppData\\Local\\Temp/ipykernel_13036/883451961.py\u001b[0m in \u001b[0;36m<module>\u001b[1;34m\u001b[0m\n\u001b[1;32m----> 1\u001b[1;33m \u001b[0ma\u001b[0m\u001b[1;33m+\u001b[0m\u001b[1;34m\"nami\"\u001b[0m\u001b[1;33m\u001b[0m\u001b[1;33m\u001b[0m\u001b[0m\n\u001b[0m",
      "\u001b[1;31mTypeError\u001b[0m: unsupported operand type(s) for +: 'NoneType' and 'str'"
     ]
    }
   ],
   "source": [
    "a+\"namirah\""
   ]
  },
  {
   "cell_type": "code",
   "execution_count": 16,
   "id": "226c390d",
   "metadata": {},
   "outputs": [
    {
     "data": {
      "text/plain": [
       "'namirahbewnak'"
      ]
     },
     "execution_count": 16,
     "metadata": {},
     "output_type": "execute_result"
    }
   ],
   "source": [
    "\"namirah\" + \"bewnak\""
   ]
  },
  {
   "cell_type": "code",
   "execution_count": 21,
   "id": "391ac587",
   "metadata": {},
   "outputs": [],
   "source": [
    "def test3() :\n",
    "    return 235435"
   ]
  },
  {
   "cell_type": "code",
   "execution_count": 23,
   "id": "3647b9db",
   "metadata": {},
   "outputs": [
    {
     "data": {
      "text/plain": [
       "235435"
      ]
     },
     "execution_count": 23,
     "metadata": {},
     "output_type": "execute_result"
    }
   ],
   "source": [
    "test3()"
   ]
  },
  {
   "cell_type": "code",
   "execution_count": 24,
   "id": "2ec3cd3c",
   "metadata": {},
   "outputs": [
    {
     "data": {
      "text/plain": [
       "int"
      ]
     },
     "execution_count": 24,
     "metadata": {},
     "output_type": "execute_result"
    }
   ],
   "source": [
    "type(test3())"
   ]
  },
  {
   "cell_type": "code",
   "execution_count": 29,
   "id": "75f22641",
   "metadata": {},
   "outputs": [],
   "source": [
    "def test4() :\n",
    "    return 4,3, \"namirah\" , [1,2,3,4,5]"
   ]
  },
  {
   "cell_type": "code",
   "execution_count": 30,
   "id": "a08990ed",
   "metadata": {},
   "outputs": [],
   "source": [
    "b = test4()"
   ]
  },
  {
   "cell_type": "code",
   "execution_count": 31,
   "id": "2253c974",
   "metadata": {},
   "outputs": [
    {
     "data": {
      "text/plain": [
       "(4, 3, 'namirah', [1, 2, 3, 4, 5])"
      ]
     },
     "execution_count": 31,
     "metadata": {},
     "output_type": "execute_result"
    }
   ],
   "source": [
    "b"
   ]
  },
  {
   "cell_type": "code",
   "execution_count": 32,
   "id": "e9900ef5",
   "metadata": {},
   "outputs": [
    {
     "data": {
      "text/plain": [
       "3"
      ]
     },
     "execution_count": 32,
     "metadata": {},
     "output_type": "execute_result"
    }
   ],
   "source": [
    "b[1]"
   ]
  },
  {
   "cell_type": "code",
   "execution_count": 33,
   "id": "dcd955af",
   "metadata": {},
   "outputs": [
    {
     "data": {
      "text/plain": [
       "[1, 2, 3, 4, 5]"
      ]
     },
     "execution_count": 33,
     "metadata": {},
     "output_type": "execute_result"
    }
   ],
   "source": [
    "b[3]"
   ]
  },
  {
   "cell_type": "code",
   "execution_count": 34,
   "id": "2af818b2",
   "metadata": {},
   "outputs": [
    {
     "data": {
      "text/plain": [
       "(4, 3, 'namirah', [1, 2, 3, 4, 5])"
      ]
     },
     "execution_count": 34,
     "metadata": {},
     "output_type": "execute_result"
    }
   ],
   "source": [
    "test4()"
   ]
  },
  {
   "cell_type": "code",
   "execution_count": 35,
   "id": "e7dfad67",
   "metadata": {},
   "outputs": [],
   "source": [
    "a = 1\n",
    "b = 5\n",
    "c = \"namirah\"\n",
    "d = [541225,254122,36521,452233,]"
   ]
  },
  {
   "cell_type": "code",
   "execution_count": 36,
   "id": "a3abd052",
   "metadata": {},
   "outputs": [],
   "source": [
    "a,b,c,d = 34, 35, \"namirah\", [1,2,3,4,5,6]"
   ]
  },
  {
   "cell_type": "code",
   "execution_count": 37,
   "id": "cc9eea3d",
   "metadata": {},
   "outputs": [],
   "source": [
    "x,y,u,v = test4()"
   ]
  },
  {
   "cell_type": "code",
   "execution_count": 38,
   "id": "144b13e8",
   "metadata": {},
   "outputs": [
    {
     "data": {
      "text/plain": [
       "4"
      ]
     },
     "execution_count": 38,
     "metadata": {},
     "output_type": "execute_result"
    }
   ],
   "source": [
    "x"
   ]
  },
  {
   "cell_type": "code",
   "execution_count": 39,
   "id": "5985250e",
   "metadata": {},
   "outputs": [
    {
     "data": {
      "text/plain": [
       "3"
      ]
     },
     "execution_count": 39,
     "metadata": {},
     "output_type": "execute_result"
    }
   ],
   "source": [
    "y"
   ]
  },
  {
   "cell_type": "code",
   "execution_count": 40,
   "id": "d72b0111",
   "metadata": {},
   "outputs": [
    {
     "data": {
      "text/plain": [
       "'namirah'"
      ]
     },
     "execution_count": 40,
     "metadata": {},
     "output_type": "execute_result"
    }
   ],
   "source": [
    "u"
   ]
  },
  {
   "cell_type": "code",
   "execution_count": 41,
   "id": "51873b24",
   "metadata": {},
   "outputs": [
    {
     "data": {
      "text/plain": [
       "[1, 2, 3, 4, 5]"
      ]
     },
     "execution_count": 41,
     "metadata": {},
     "output_type": "execute_result"
    }
   ],
   "source": [
    "v"
   ]
  },
  {
   "cell_type": "code",
   "execution_count": 42,
   "id": "e9feaebc",
   "metadata": {},
   "outputs": [],
   "source": [
    "def test5():\n",
    "    a = 6*7 /6\n",
    "    return a\n"
   ]
  },
  {
   "cell_type": "code",
   "execution_count": 43,
   "id": "ac05aeb0",
   "metadata": {},
   "outputs": [
    {
     "data": {
      "text/plain": [
       "7.0"
      ]
     },
     "execution_count": 43,
     "metadata": {},
     "output_type": "execute_result"
    }
   ],
   "source": [
    "test5()"
   ]
  },
  {
   "cell_type": "code",
   "execution_count": 44,
   "id": "6944ac61",
   "metadata": {},
   "outputs": [],
   "source": [
    "l = [3,4,5,6,7,7,\"namirah\", [8,8,9,96,52]]"
   ]
  },
  {
   "cell_type": "code",
   "execution_count": 45,
   "id": "c7ed6d53",
   "metadata": {},
   "outputs": [],
   "source": [
    "def test6(a):\n",
    "    n = []\n",
    "    if a == list:\n",
    "        for i in a:\n",
    "            if type(i) == int:\n",
    "                n.append(i)\n",
    "                \n",
    "    return n\n"
   ]
  },
  {
   "cell_type": "code",
   "execution_count": 48,
   "id": "fa0b668f",
   "metadata": {},
   "outputs": [
    {
     "data": {
      "text/plain": [
       "list"
      ]
     },
     "execution_count": 48,
     "metadata": {},
     "output_type": "execute_result"
    }
   ],
   "source": [
    "type(test6(1))"
   ]
  },
  {
   "cell_type": "code",
   "execution_count": 11,
   "id": "b3ca301e",
   "metadata": {},
   "outputs": [],
   "source": [
    "def test7(a):\n",
    "    n = []\n",
    "    if type(a) == list:\n",
    "        for i in a:\n",
    "            if type(i) == int:\n",
    "                n.append(i)\n",
    "                \n",
    "        return n       \n",
    "    "
   ]
  },
  {
   "cell_type": "code",
   "execution_count": 13,
   "id": "ffb7d170",
   "metadata": {},
   "outputs": [],
   "source": [
    "def test8(c) :\n",
    "    if type(c) == dict :\n",
    "        return c.keys()\n",
    "    else :\n",
    "        return \"you have not passed a dict\"\n",
    "        "
   ]
  },
  {
   "cell_type": "code",
   "execution_count": 14,
   "id": "322091ed",
   "metadata": {},
   "outputs": [
    {
     "data": {
      "text/plain": [
       "'you have not passed a dict'"
      ]
     },
     "execution_count": 14,
     "metadata": {},
     "output_type": "execute_result"
    }
   ],
   "source": [
    "test8(\"fdgstbjd\")"
   ]
  },
  {
   "cell_type": "code",
   "execution_count": 15,
   "id": "d4fda6c0",
   "metadata": {},
   "outputs": [
    {
     "data": {
      "text/plain": [
       "dict_keys(['a', 'b', 'c'])"
      ]
     },
     "execution_count": 15,
     "metadata": {},
     "output_type": "execute_result"
    }
   ],
   "source": [
    "test8({\"a\":\"dsfst\" , \"b\" :25458, \"c\" : [4,5,6,7,85]})"
   ]
  },
  {
   "cell_type": "code",
   "execution_count": 28,
   "id": "e45c6b01",
   "metadata": {},
   "outputs": [],
   "source": [
    "def test9(a,b) :\n",
    "    if type(a) ==list and type(b) ==list:\n",
    "        a.extend(b)\n",
    "        return a\n",
    "    else :\n",
    "        return \"either of your data is not a list\""
   ]
  },
  {
   "cell_type": "code",
   "execution_count": 29,
   "id": "425d4ff0",
   "metadata": {},
   "outputs": [
    {
     "data": {
      "text/plain": [
       "'either of your data is not a list'"
      ]
     },
     "execution_count": 29,
     "metadata": {},
     "output_type": "execute_result"
    }
   ],
   "source": [
    "test9(2424, \"uisyhdhd\")"
   ]
  },
  {
   "cell_type": "code",
   "execution_count": 30,
   "id": "fbbd6cfd",
   "metadata": {},
   "outputs": [
    {
     "data": {
      "text/plain": [
       "[2, 4, 5, 6, 4, 5, 58, 547]"
      ]
     },
     "execution_count": 30,
     "metadata": {},
     "output_type": "execute_result"
    }
   ],
   "source": [
    "test9([2,4,5,6,] , [4,5,58,547])"
   ]
  },
  {
   "cell_type": "code",
   "execution_count": 31,
   "id": "85489ae9",
   "metadata": {},
   "outputs": [],
   "source": [
    "n = test9([2,4,5,6,] , [4,5,58,547])"
   ]
  },
  {
   "cell_type": "code",
   "execution_count": 24,
   "id": "78b44289",
   "metadata": {},
   "outputs": [],
   "source": [
    "a = [2,4,5,6,]\n",
    "b = [4,5,58,547]"
   ]
  },
  {
   "cell_type": "code",
   "execution_count": 26,
   "id": "87953415",
   "metadata": {},
   "outputs": [],
   "source": [
    "test9(a,b)"
   ]
  },
  {
   "cell_type": "code",
   "execution_count": 27,
   "id": "d6b04775",
   "metadata": {},
   "outputs": [
    {
     "data": {
      "text/plain": [
       "[2, 4, 5, 6, 4, 5, 58, 547]"
      ]
     },
     "execution_count": 27,
     "metadata": {},
     "output_type": "execute_result"
    }
   ],
   "source": [
    "a"
   ]
  },
  {
   "cell_type": "code",
   "execution_count": 35,
   "id": "96ec8a6e",
   "metadata": {},
   "outputs": [],
   "source": [
    "def triangle (rows):\n",
    "    if type(rows)  == int:\n",
    "        for i in range(1,rows):\n",
    "            for j in range(i):\n",
    "                print(\".\",end=\" \")\n",
    "            print(\" \")"
   ]
  },
  {
   "cell_type": "code",
   "execution_count": 39,
   "id": "cd75f282",
   "metadata": {},
   "outputs": [
    {
     "name": "stdout",
     "output_type": "stream",
     "text": [
      ".  \n",
      ". .  \n",
      ". . .  \n"
     ]
    }
   ],
   "source": [
    "triangle(4)"
   ]
  },
  {
   "cell_type": "code",
   "execution_count": 41,
   "id": "4c8169ef",
   "metadata": {},
   "outputs": [
    {
     "name": "stdout",
     "output_type": "stream",
     "text": [
      ".  \n",
      ". .  \n",
      ". . .  \n",
      ". . . .  \n",
      ". . . . .  \n",
      ". . . . . .  \n",
      ". . . . . . .  \n",
      ". . . . . . . .  \n",
      ". . . . . . . . .  \n"
     ]
    }
   ],
   "source": [
    "triangle(10)"
   ]
  },
  {
   "cell_type": "code",
   "execution_count": 44,
   "id": "1f01a195",
   "metadata": {},
   "outputs": [],
   "source": [
    "#sdfsgtdh dhdudj dgdgsyd dhdhdh"
   ]
  },
  {
   "cell_type": "code",
   "execution_count": 45,
   "id": "5f13d160",
   "metadata": {},
   "outputs": [
    {
     "data": {
      "text/plain": [
       "'hfhh\\nfff\\nfgfg\\nfg\\nfgf\\nfffd\\nfdfd\\nfrr\\nfrf'"
      ]
     },
     "execution_count": 45,
     "metadata": {},
     "output_type": "execute_result"
    }
   ],
   "source": [
    "\"\"\"hfhh\n",
    "fff\n",
    "fgfg\n",
    "fg\n",
    "fgf\n",
    "fffd\n",
    "fdfd\n",
    "frr\n",
    "frf\"\"\""
   ]
  },
  {
   "cell_type": "code",
   "execution_count": null,
   "id": "3e2885ba",
   "metadata": {},
   "outputs": [],
   "source": [
    "1.You have to write a function which will take string and return a len of it without using a inbuilt fun len\n",
    "2.Write a function which will be able to print an index of all premitive element which you will pass.\n",
    "3.write a function which will take input as a list and give output as a dict of all the values even in case of 2 level nesting\n",
    "it should work.\n",
    "4.write a function which will take another fun as an input and return me as an output.\n",
    "5.write a function which will take multiple list as a intput and give me contacnation of all the element as an output\n",
    "6.write a function which will be able to take a list as an input and return an index of each element like a inbuilt index function\n",
    "but even if we have a repetative element it should return index.\n",
    "7.write a function which will would return list of all the file name from a directory.\n",
    "8.write a function which will be able to show your system configuration\n",
    "9.write a function which will be able to show date and time.\n",
    "10.write a function which will be able te read a image file and show it to you.\n",
    "11.write a function which can read video file and play for you.\n",
    "12.write a function which can move a file from one directory to another directory.\n",
    "13.write a function which will be able to shutdown your system\n",
    "14.write a function which will be able to access your mail.\n",
    "15.write a function bywhich i can send a mail to anyone.\n",
    "16.write a function to read a complete pdf file.\n",
    "17.write a function to read a word file.\n",
    "18.write a function which can help you to filter only word file from a directory.\n",
    "19.write a function by which you can print an ip address of your system.\n",
    "20.write a function by which you will be able to append two PDF file."
   ]
  }
 ],
 "metadata": {
  "kernelspec": {
   "display_name": "Python 3 (ipykernel)",
   "language": "python",
   "name": "python3"
  },
  "language_info": {
   "codemirror_mode": {
    "name": "ipython",
    "version": 3
   },
   "file_extension": ".py",
   "mimetype": "text/x-python",
   "name": "python",
   "nbconvert_exporter": "python",
   "pygments_lexer": "ipython3",
   "version": "3.9.7"
  }
 },
 "nbformat": 4,
 "nbformat_minor": 5
}
